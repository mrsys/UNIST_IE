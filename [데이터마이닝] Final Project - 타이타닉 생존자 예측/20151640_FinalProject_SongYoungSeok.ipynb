{
  "nbformat": 4,
  "nbformat_minor": 0,
  "metadata": {
    "colab": {
      "name": "20151640_FinalProject_SongYoungSeok.ipynb",
      "provenance": [],
      "collapsed_sections": []
    },
    "kernelspec": {
      "name": "python3",
      "display_name": "Python 3"
    },
    "language_info": {
      "name": "python"
    }
  },
  "cells": [
    {
      "cell_type": "markdown",
      "metadata": {
        "id": "JwmA3BLwl5Gh"
      },
      "source": [
        "## The logical process of problem definition and hypothesis construction (including featureengineering) (20 points)"
      ]
    },
    {
      "cell_type": "markdown",
      "metadata": {
        "id": "8Qsdi3eFrA1w"
      },
      "source": [
        "Its main purpose is to predict survivors based on data from Titanic passengers. This is to increase the survival rate by further analyzing which features affect survival.\n",
        "\n",
        "\n",
        "* It is predicted that they may be too young or the elderly may have been vulnerable to survival. \n",
        "* In men and women, it is predicted that men with relatively more muscle strength will survive more.\n",
        "* In addition, it was assumed that a person with a high social class would have a higher survival rate as it was expected to have bought a good seat.\n",
        "\n",
        "\n"
      ]
    },
    {
      "cell_type": "markdown",
      "metadata": {
        "id": "NNrB2l4B_cQ4"
      },
      "source": [
        "* It was hypothesized that family factors, such as SibSp and Parch, that indicate the number of sister parents and children, are unlikely to significantly affect survival."
      ]
    },
    {
      "cell_type": "markdown",
      "metadata": {
        "id": "-kefT8FJW2fT"
      },
      "source": [
        "####Load data\n",
        "*Load data using `read_csv()` method\n",
        "  - Pandas package read data as `DataFrame` attribute\n",
        "  \n"
      ]
    },
    {
      "cell_type": "code",
      "metadata": {
        "colab": {
          "base_uri": "https://localhost:8080/",
          "height": 200
        },
        "id": "rzHANYubrB3j",
        "outputId": "f9a7782a-0846-4c30-b2e0-9bf344b317b5"
      },
      "source": [
        "import numpy as np\n",
        "import pandas as pd\n",
        "import matplotlib.pyplot as plt\n",
        "import seaborn as sns\n",
        "\n",
        "df = pd.read_csv('/content/Classification_Titanic.csv')\n",
        "df.head()"
      ],
      "execution_count": null,
      "outputs": [
        {
          "output_type": "execute_result",
          "data": {
            "text/html": [
              "<div>\n",
              "<style scoped>\n",
              "    .dataframe tbody tr th:only-of-type {\n",
              "        vertical-align: middle;\n",
              "    }\n",
              "\n",
              "    .dataframe tbody tr th {\n",
              "        vertical-align: top;\n",
              "    }\n",
              "\n",
              "    .dataframe thead th {\n",
              "        text-align: right;\n",
              "    }\n",
              "</style>\n",
              "<table border=\"1\" class=\"dataframe\">\n",
              "  <thead>\n",
              "    <tr style=\"text-align: right;\">\n",
              "      <th></th>\n",
              "      <th>PassengerId</th>\n",
              "      <th>Survived</th>\n",
              "      <th>Pclass</th>\n",
              "      <th>Name</th>\n",
              "      <th>Sex</th>\n",
              "      <th>Age</th>\n",
              "      <th>SibSp</th>\n",
              "      <th>Parch</th>\n",
              "      <th>Ticket</th>\n",
              "      <th>Fare</th>\n",
              "      <th>Cabin</th>\n",
              "      <th>Embarked</th>\n",
              "    </tr>\n",
              "  </thead>\n",
              "  <tbody>\n",
              "    <tr>\n",
              "      <th>0</th>\n",
              "      <td>0</td>\n",
              "      <td>1</td>\n",
              "      <td>1</td>\n",
              "      <td>Oconnor, Frankie</td>\n",
              "      <td>male</td>\n",
              "      <td>NaN</td>\n",
              "      <td>2</td>\n",
              "      <td>0</td>\n",
              "      <td>209245</td>\n",
              "      <td>27.14</td>\n",
              "      <td>C12239</td>\n",
              "      <td>S</td>\n",
              "    </tr>\n",
              "    <tr>\n",
              "      <th>1</th>\n",
              "      <td>1</td>\n",
              "      <td>0</td>\n",
              "      <td>3</td>\n",
              "      <td>Bryan, Drew</td>\n",
              "      <td>male</td>\n",
              "      <td>NaN</td>\n",
              "      <td>0</td>\n",
              "      <td>0</td>\n",
              "      <td>27323</td>\n",
              "      <td>13.35</td>\n",
              "      <td>NaN</td>\n",
              "      <td>S</td>\n",
              "    </tr>\n",
              "    <tr>\n",
              "      <th>2</th>\n",
              "      <td>2</td>\n",
              "      <td>0</td>\n",
              "      <td>3</td>\n",
              "      <td>Owens, Kenneth</td>\n",
              "      <td>male</td>\n",
              "      <td>0.33</td>\n",
              "      <td>1</td>\n",
              "      <td>2</td>\n",
              "      <td>CA 457703</td>\n",
              "      <td>71.29</td>\n",
              "      <td>NaN</td>\n",
              "      <td>S</td>\n",
              "    </tr>\n",
              "    <tr>\n",
              "      <th>3</th>\n",
              "      <td>3</td>\n",
              "      <td>0</td>\n",
              "      <td>3</td>\n",
              "      <td>Kramer, James</td>\n",
              "      <td>male</td>\n",
              "      <td>19.00</td>\n",
              "      <td>0</td>\n",
              "      <td>0</td>\n",
              "      <td>A. 10866</td>\n",
              "      <td>13.04</td>\n",
              "      <td>NaN</td>\n",
              "      <td>S</td>\n",
              "    </tr>\n",
              "    <tr>\n",
              "      <th>4</th>\n",
              "      <td>4</td>\n",
              "      <td>1</td>\n",
              "      <td>3</td>\n",
              "      <td>Bond, Michael</td>\n",
              "      <td>male</td>\n",
              "      <td>25.00</td>\n",
              "      <td>0</td>\n",
              "      <td>0</td>\n",
              "      <td>427635</td>\n",
              "      <td>7.76</td>\n",
              "      <td>NaN</td>\n",
              "      <td>S</td>\n",
              "    </tr>\n",
              "  </tbody>\n",
              "</table>\n",
              "</div>"
            ],
            "text/plain": [
              "   PassengerId  Survived  Pclass  ...   Fare   Cabin  Embarked\n",
              "0            0         1       1  ...  27.14  C12239         S\n",
              "1            1         0       3  ...  13.35     NaN         S\n",
              "2            2         0       3  ...  71.29     NaN         S\n",
              "3            3         0       3  ...  13.04     NaN         S\n",
              "4            4         1       3  ...   7.76     NaN         S\n",
              "\n",
              "[5 rows x 12 columns]"
            ]
          },
          "metadata": {
            "tags": []
          },
          "execution_count": 52
        }
      ]
    },
    {
      "cell_type": "markdown",
      "metadata": {
        "id": "E2xYSAGzFsWW"
      },
      "source": [
        "* Lets check if there is any missing data\n"
      ]
    },
    {
      "cell_type": "code",
      "metadata": {
        "colab": {
          "base_uri": "https://localhost:8080/"
        },
        "id": "XNyajTowsgaN",
        "outputId": "5d4dc39f-945b-4d6e-9e5d-035724a0fda2"
      },
      "source": [
        "df.info()"
      ],
      "execution_count": null,
      "outputs": [
        {
          "output_type": "stream",
          "text": [
            "<class 'pandas.core.frame.DataFrame'>\n",
            "RangeIndex: 100000 entries, 0 to 99999\n",
            "Data columns (total 12 columns):\n",
            " #   Column       Non-Null Count   Dtype  \n",
            "---  ------       --------------   -----  \n",
            " 0   PassengerId  100000 non-null  int64  \n",
            " 1   Survived     100000 non-null  int64  \n",
            " 2   Pclass       100000 non-null  int64  \n",
            " 3   Name         100000 non-null  object \n",
            " 4   Sex          100000 non-null  object \n",
            " 5   Age          96708 non-null   float64\n",
            " 6   SibSp        100000 non-null  int64  \n",
            " 7   Parch        100000 non-null  int64  \n",
            " 8   Ticket       95377 non-null   object \n",
            " 9   Fare         99866 non-null   float64\n",
            " 10  Cabin        32134 non-null   object \n",
            " 11  Embarked     99750 non-null   object \n",
            "dtypes: float64(2), int64(5), object(5)\n",
            "memory usage: 9.2+ MB\n"
          ],
          "name": "stdout"
        }
      ]
    },
    {
      "cell_type": "markdown",
      "metadata": {
        "id": "3Vvl93bp15j5"
      },
      "source": [
        "* Converts the data types of categorical values ​​to objects for visualization."
      ]
    },
    {
      "cell_type": "code",
      "metadata": {
        "colab": {
          "base_uri": "https://localhost:8080/"
        },
        "id": "jU_FIuPM0Blm",
        "outputId": "1ed3574e-18a8-43e5-d878-0e9b77cf9927"
      },
      "source": [
        "cat_feat = ['PassengerId','Survived','Pclass','Embarked']\n",
        "df[cat_feat] = df[cat_feat].astype('object')\n",
        "df.info()"
      ],
      "execution_count": null,
      "outputs": [
        {
          "output_type": "stream",
          "text": [
            "<class 'pandas.core.frame.DataFrame'>\n",
            "RangeIndex: 100000 entries, 0 to 99999\n",
            "Data columns (total 12 columns):\n",
            " #   Column       Non-Null Count   Dtype  \n",
            "---  ------       --------------   -----  \n",
            " 0   PassengerId  100000 non-null  object \n",
            " 1   Survived     100000 non-null  object \n",
            " 2   Pclass       100000 non-null  object \n",
            " 3   Name         100000 non-null  object \n",
            " 4   Sex          100000 non-null  object \n",
            " 5   Age          96708 non-null   float64\n",
            " 6   SibSp        100000 non-null  int64  \n",
            " 7   Parch        100000 non-null  int64  \n",
            " 8   Ticket       95377 non-null   object \n",
            " 9   Fare         99866 non-null   float64\n",
            " 10  Cabin        32134 non-null   object \n",
            " 11  Embarked     99750 non-null   object \n",
            "dtypes: float64(2), int64(2), object(8)\n",
            "memory usage: 9.2+ MB\n"
          ],
          "name": "stdout"
        }
      ]
    },
    {
      "cell_type": "markdown",
      "metadata": {
        "id": "7wwg2effXlKT"
      },
      "source": [
        "* Check a categorical feature using value_counts() method using for loop.\n",
        "\n"
      ]
    },
    {
      "cell_type": "code",
      "metadata": {
        "id": "YG5YjGyu3ohd",
        "colab": {
          "base_uri": "https://localhost:8080/"
        },
        "outputId": "5a14783a-c8dc-497e-fe39-cfb0c67dab58"
      },
      "source": [
        "for cat in cat_feat:\n",
        "  print(cat)\n",
        "  print(df[cat].value_counts())\n",
        "  print(' ')"
      ],
      "execution_count": null,
      "outputs": [
        {
          "output_type": "stream",
          "text": [
            "PassengerId\n",
            "99999    1\n",
            "33349    1\n",
            "33327    1\n",
            "33328    1\n",
            "33329    1\n",
            "        ..\n",
            "66668    1\n",
            "66669    1\n",
            "66670    1\n",
            "66671    1\n",
            "0        1\n",
            "Name: PassengerId, Length: 100000, dtype: int64\n",
            " \n",
            "Survived\n",
            "0    57226\n",
            "1    42774\n",
            "Name: Survived, dtype: int64\n",
            " \n",
            "Pclass\n",
            "3    41006\n",
            "1    30315\n",
            "2    28679\n",
            "Name: Pclass, dtype: int64\n",
            " \n",
            "Embarked\n",
            "S    72139\n",
            "C    22187\n",
            "Q     5424\n",
            "Name: Embarked, dtype: int64\n",
            " \n"
          ],
          "name": "stdout"
        }
      ]
    },
    {
      "cell_type": "markdown",
      "metadata": {
        "id": "2vpEDRaHuQed"
      },
      "source": [
        "* This is to see if the data is imbalaced. If you are training with an imbalanced dataset, you must be really careful.\n",
        "For instance, consider the case where there are 99 non-cancer patients and 1 cancer patients.\n",
        "\n"
      ]
    },
    {
      "cell_type": "code",
      "metadata": {
        "colab": {
          "base_uri": "https://localhost:8080/",
          "height": 286
        },
        "id": "HtESfyqLuetw",
        "outputId": "bbf56be4-b767-43ac-f18e-14dabdc9efa5"
      },
      "source": [
        "#Bar plot the ratio between target variables\n",
        "plt.bar(['1','0'],df['Survived'].value_counts(ascending=True))"
      ],
      "execution_count": null,
      "outputs": [
        {
          "output_type": "execute_result",
          "data": {
            "text/plain": [
              "<BarContainer object of 2 artists>"
            ]
          },
          "metadata": {
            "tags": []
          },
          "execution_count": 56
        },
        {
          "output_type": "display_data",
          "data": {
            "image/png": "[encoded data removed]",
            "text/plain": [
              "<Figure size 432x288 with 1 Axes>"
            ]
          },
          "metadata": {
            "tags": [],
            "needs_background": "light"
          }
        }
      ]
    },
    {
      "cell_type": "code",
      "metadata": {
        "colab": {
          "base_uri": "https://localhost:8080/"
        },
        "id": "oLrFidW4wHVX",
        "outputId": "c3323851-17fc-4b90-c5f6-2aaae4e3b8dd"
      },
      "source": [
        "#check the imbalance ratio between 1 and 0\n",
        "# this way of printing is called \"f printing, the 4f is to display until 4 decimal places\"\n",
        "ratio = len(df[df['Survived']==1])/len(df[df['Survived']==0])\n",
        "\n",
        "print(ratio)"
      ],
      "execution_count": null,
      "outputs": [
        {
          "output_type": "stream",
          "text": [
            "0.7474574494111068\n"
          ],
          "name": "stdout"
        }
      ]
    },
    {
      "cell_type": "markdown",
      "metadata": {
        "id": "OAIRrlTMfu3Y"
      },
      "source": [
        "#### Split training and test data\n",
        "- I use `train_test_split()` method in scikit-learn package\n",
        "- I split my training and test set by keeping ratio of **target** categorical variable.\n",
        "- This is called *stratified split*, and it can be easily done by passing `stratify` arugment to the `train_test_split()` method."
      ]
    },
    {
      "cell_type": "code",
      "metadata": {
        "id": "MSKkh6LifmfE"
      },
      "source": [
        "#import train_test_split method from sklearn\n",
        "from sklearn.model_selection import train_test_split\n",
        "training_set, test_set = train_test_split(df,test_size = 0.2, random_state=1,stratify = df[['Survived']])"
      ],
      "execution_count": null,
      "outputs": []
    },
    {
      "cell_type": "code",
      "metadata": {
        "colab": {
          "base_uri": "https://localhost:8080/"
        },
        "id": "iHrGzEDpfma6",
        "outputId": "7fd51dbe-75d7-425f-af0e-78d89ccc352d"
      },
      "source": [
        "TR_Length = len(training_set)\n",
        "TE_Length = len(test_set)\n",
        "\n",
        "print(f'Training samples : {TR_Length},Test Samples: {TE_Length}')"
      ],
      "execution_count": null,
      "outputs": [
        {
          "output_type": "stream",
          "text": [
            "Training samples : 80000,Test Samples: 20000\n"
          ],
          "name": "stdout"
        }
      ]
    },
    {
      "cell_type": "code",
      "metadata": {
        "colab": {
          "base_uri": "https://localhost:8080/"
        },
        "id": "29IR27EufmW5",
        "outputId": "1ff508ff-fc44-473f-c950-0fd0b5daf247"
      },
      "source": [
        "training_set['Survived'].value_counts()"
      ],
      "execution_count": null,
      "outputs": [
        {
          "output_type": "execute_result",
          "data": {
            "text/plain": [
              "0    45781\n",
              "1    34219\n",
              "Name: Survived, dtype: int64"
            ]
          },
          "metadata": {
            "tags": []
          },
          "execution_count": 60
        }
      ]
    },
    {
      "cell_type": "code",
      "metadata": {
        "colab": {
          "base_uri": "https://localhost:8080/"
        },
        "id": "UZkxWF2YfmSg",
        "outputId": "ec8f4dc5-246a-4998-c252-407d4a6871c8"
      },
      "source": [
        "ratio = len(training_set[training_set['Survived'] == 1])/len(training_set[training_set['Survived'] == 0])\n",
        "print(f'Ratio of target in training set 0 : 1 = 1 : {ratio:.4f}')"
      ],
      "execution_count": null,
      "outputs": [
        {
          "output_type": "stream",
          "text": [
            "Ratio of target in training set 0 : 1 = 1 : 0.7474\n"
          ],
          "name": "stdout"
        }
      ]
    },
    {
      "cell_type": "code",
      "metadata": {
        "colab": {
          "base_uri": "https://localhost:8080/"
        },
        "id": "0PMfD9Ccf_rR",
        "outputId": "4af98e04-2627-4c2f-a173-344253d0d97e"
      },
      "source": [
        "ratio = len(test_set[test_set['Survived'] == 1])/len(test_set[test_set['Survived'] == 0])\n",
        "print(f'Ratio of target in test set 0 : 1 = 1 : {ratio:.4f}')"
      ],
      "execution_count": null,
      "outputs": [
        {
          "output_type": "stream",
          "text": [
            "Ratio of target in test set 0 : 1 = 1 : 0.7475\n"
          ],
          "name": "stdout"
        }
      ]
    },
    {
      "cell_type": "markdown",
      "metadata": {
        "id": "_ElrR3vQYg6D"
      },
      "source": [
        "## Exploratory data analysis (20 points)"
      ]
    },
    {
      "cell_type": "code",
      "metadata": {
        "id": "4Rb0DX3xbNpQ"
      },
      "source": [
        "# copy data for preventing damage in raw training data\n",
        "data = training_set.copy()"
      ],
      "execution_count": null,
      "outputs": []
    },
    {
      "cell_type": "markdown",
      "metadata": {
        "id": "eBZrRdYXbJRp"
      },
      "source": [
        "* I looked at the categorical values ​​of sex and pclass.\n",
        "  - Let us see their relationship with target variables using multiple bar chart.\n",
        "  - It can be easily done by combining `plot()` function of matplotlib package and `crosstab()` function of pandas package.\n",
        "  - According to the hypothesis, I looked at survival rates by gender and by Pclass."
      ]
    },
    {
      "cell_type": "markdown",
      "metadata": {
        "id": "a_mdUtiFm4YT"
      },
      "source": [
        "* The bar graph showed that unlike the hypothesis, the survival rate of men was low and that of women was high.\n",
        "* It is presumed that this is probably because they tried to save women first. \n"
      ]
    },
    {
      "cell_type": "code",
      "metadata": {
        "colab": {
          "base_uri": "https://localhost:8080/",
          "height": 446
        },
        "id": "NTtK8lRGbJE5",
        "outputId": "2b78de70-eacb-4c1f-def7-c075bd2f7185"
      },
      "source": [
        "pd.crosstab(data['Sex'],data['Survived']).plot(kind = 'bar',figsize = (15,6))\n",
        "plt.title('Survived for Sex')\n",
        "plt.legend(['No Survived ','Yes Survived'])\n",
        "plt.show"
      ],
      "execution_count": null,
      "outputs": [
        {
          "output_type": "execute_result",
          "data": {
            "text/plain": [
              "<function matplotlib.pyplot.show>"
            ]
          },
          "metadata": {
            "tags": []
          },
          "execution_count": 64
        },
        {
          "output_type": "display_data",
          "data": {
            "image/png": "[encoded data removed]",
            "text/plain": [
              "<Figure size 1080x432 with 1 Axes>"
            ]
          },
          "metadata": {
            "tags": [],
            "needs_background": "light"
          }
        }
      ]
    },
    {
      "cell_type": "markdown",
      "metadata": {
        "id": "fkASHDa_nZdD"
      },
      "source": [
        "* As in the hypothesis, the better the pclass, the higher the survival rate was.\n",
        "* It is predicted that the survival rate will be high as the higher class seats are in a safe position from sinking.\n",
        "\n"
      ]
    },
    {
      "cell_type": "code",
      "metadata": {
        "colab": {
          "base_uri": "https://localhost:8080/",
          "height": 417
        },
        "id": "7O84CNgTbB-o",
        "outputId": "66928b5f-36ef-4c8a-9301-7e72b56c9d7d"
      },
      "source": [
        "pd.crosstab(data['Pclass'],data['Survived']).plot(kind = 'bar',figsize = (15,6))\n",
        "plt.title('Survived for Ticket class')\n",
        "plt.legend(['No Survived ','Yes Survived'])\n",
        "plt.show"
      ],
      "execution_count": null,
      "outputs": [
        {
          "output_type": "execute_result",
          "data": {
            "text/plain": [
              "<function matplotlib.pyplot.show>"
            ]
          },
          "metadata": {
            "tags": []
          },
          "execution_count": 65
        },
        {
          "output_type": "display_data",
          "data": {
            "image/png": "[encoded data removed]",
            "text/plain": [
              "<Figure size 1080x432 with 1 Axes>"
            ]
          },
          "metadata": {
            "tags": [],
            "needs_background": "light"
          }
        }
      ]
    },
    {
      "cell_type": "markdown",
      "metadata": {
        "id": "AEhPGGiVdrmK"
      },
      "source": [
        "* I can also check relationship between two numeric variables along with target label using histogram. It shows the distribution of age according to survival.\n",
        " - When viewed simply by histogram, the survival rate is low in the early 20s and late 50s, and the survival rate is high in the late teens. "
      ]
    },
    {
      "cell_type": "code",
      "metadata": {
        "colab": {
          "base_uri": "https://localhost:8080/",
          "height": 242
        },
        "id": "IGQQlxfqbBvp",
        "outputId": "c0b07943-e3f1-4341-e93e-8651c1b276e6"
      },
      "source": [
        "age_survived = sns.FacetGrid(data, col='Survived')\n",
        "age_survived.map(plt.hist, 'Age', bins=20)"
      ],
      "execution_count": null,
      "outputs": [
        {
          "output_type": "execute_result",
          "data": {
            "text/plain": [
              "<seaborn.axisgrid.FacetGrid at 0x7fdd3c9c1e50>"
            ]
          },
          "metadata": {
            "tags": []
          },
          "execution_count": 67
        },
        {
          "output_type": "display_data",
          "data": {
            "image/png": "[encoded data removed]",
            "text/plain": [
              "<Figure size 432x216 with 2 Axes>"
            ]
          },
          "metadata": {
            "tags": [],
            "needs_background": "light"
          }
        }
      ]
    },
    {
      "cell_type": "markdown",
      "metadata": {
        "id": "TJEsfjq8livs"
      },
      "source": [
        "* To make the relationship between age and survival easier to see, I also plotted using Facetgrid.\n",
        " - If you look at this graph, you can clearly see that the survival rate is low among young people in their 20s and 30s, and the survival rate increases from their 40s.\n",
        " - From these points, it can be predicted that the old and the weak were prioritized during rescue activities."
      ]
    },
    {
      "cell_type": "code",
      "metadata": {
        "colab": {
          "base_uri": "https://localhost:8080/",
          "height": 225
        },
        "id": "Spu-OBTmkasV",
        "outputId": "97e5a41f-31be-4792-deb4-7730ad6a2430"
      },
      "source": [
        "Age_survived = sns.FacetGrid(data,hue=\"Survived\",aspect=4)\n",
        "Age_survived.map(sns.kdeplot,'Age',shade=True)\n",
        "Age_survived.set(xlim=(0,data['Age'].max()))\n",
        "Age_survived.add_legend()\n",
        "\n",
        "plt.show()"
      ],
      "execution_count": null,
      "outputs": [
        {
          "output_type": "display_data",
          "data": {
            "image/png": "[encoded data removed]",
            "text/plain": [
              "<Figure size 915.875x216 with 1 Axes>"
            ]
          },
          "metadata": {
            "tags": [],
            "needs_background": "light"
          }
        }
      ]
    },
    {
      "cell_type": "markdown",
      "metadata": {
        "id": "uq9ZQzGZKbK-"
      },
      "source": [
        "##Correctness of the process of data munging and data pre-processing"
      ]
    },
    {
      "cell_type": "markdown",
      "metadata": {
        "id": "7KZSj9yccE4v"
      },
      "source": [
        "* Check for missing values ​​in training_set and test_set."
      ]
    },
    {
      "cell_type": "code",
      "metadata": {
        "colab": {
          "base_uri": "https://localhost:8080/"
        },
        "id": "_9Dx5dLabJbw",
        "outputId": "b3b06b68-e62e-40b9-e89c-d732ed52a3f7"
      },
      "source": [
        "df.info()"
      ],
      "execution_count": null,
      "outputs": [
        {
          "output_type": "stream",
          "text": [
            "<class 'pandas.core.frame.DataFrame'>\n",
            "RangeIndex: 100000 entries, 0 to 99999\n",
            "Data columns (total 12 columns):\n",
            " #   Column       Non-Null Count   Dtype  \n",
            "---  ------       --------------   -----  \n",
            " 0   PassengerId  100000 non-null  object \n",
            " 1   Survived     100000 non-null  object \n",
            " 2   Pclass       100000 non-null  object \n",
            " 3   Name         100000 non-null  object \n",
            " 4   Sex          100000 non-null  object \n",
            " 5   Age          96708 non-null   float64\n",
            " 6   SibSp        100000 non-null  int64  \n",
            " 7   Parch        100000 non-null  int64  \n",
            " 8   Ticket       95377 non-null   object \n",
            " 9   Fare         99866 non-null   float64\n",
            " 10  Cabin        32134 non-null   object \n",
            " 11  Embarked     99750 non-null   object \n",
            "dtypes: float64(2), int64(2), object(8)\n",
            "memory usage: 9.2+ MB\n"
          ],
          "name": "stdout"
        }
      ]
    },
    {
      "cell_type": "markdown",
      "metadata": {
        "id": "HAfTJ30hq1KU"
      },
      "source": [
        "* The missing values ​​were checked first."
      ]
    },
    {
      "cell_type": "code",
      "metadata": {
        "colab": {
          "base_uri": "https://localhost:8080/"
        },
        "id": "pp5nGAKPKTV-",
        "outputId": "7372df1a-f090-4ade-d56e-8771cf31281d"
      },
      "source": [
        "training_set.isnull().sum()"
      ],
      "execution_count": null,
      "outputs": [
        {
          "output_type": "execute_result",
          "data": {
            "text/plain": [
              "PassengerId        0\n",
              "Survived           0\n",
              "Pclass             0\n",
              "Name               0\n",
              "Sex                0\n",
              "Age             2662\n",
              "SibSp              0\n",
              "Parch              0\n",
              "Ticket          3723\n",
              "Fare             107\n",
              "Cabin          54212\n",
              "Embarked         206\n",
              "dtype: int64"
            ]
          },
          "metadata": {
            "tags": []
          },
          "execution_count": 70
        }
      ]
    },
    {
      "cell_type": "code",
      "metadata": {
        "colab": {
          "base_uri": "https://localhost:8080/"
        },
        "id": "Z_rfaEfFasrz",
        "outputId": "3c680043-1b37-43dc-d60d-151156bac154"
      },
      "source": [
        "test_set.isnull().sum()"
      ],
      "execution_count": null,
      "outputs": [
        {
          "output_type": "execute_result",
          "data": {
            "text/plain": [
              "PassengerId    0\n",
              "Survived       0\n",
              "Pclass         0\n",
              "Sex            0\n",
              "Age            0\n",
              "SibSp          0\n",
              "Parch          0\n",
              "Fare           0\n",
              "Embarked       0\n",
              "dtype: int64"
            ]
          },
          "metadata": {
            "tags": []
          },
          "execution_count": 44
        }
      ]
    },
    {
      "cell_type": "markdown",
      "metadata": {
        "id": "V_l16chLdZw2"
      },
      "source": [
        "* Age will put the missing values ​​as the median and Fare will do so as well. Embarked will fill in the mode.\n",
        "* Age has a large number of missing values, so the median is put in so that it does not have an overall effect.\n",
        "* Fare did not care much because there were few missing values, and Embarked put in the mode value assuming that it came mainly from the place where it came from the most.\n"
      ]
    },
    {
      "cell_type": "code",
      "metadata": {
        "colab": {
          "base_uri": "https://localhost:8080/"
        },
        "id": "W6yGEQazdbZL",
        "outputId": "c223b117-83c1-4066-c4f9-ed8c340e9824"
      },
      "source": [
        "training_set['Age'].fillna(training_set['Age'].median(), inplace = True)\n",
        "training_set['Fare'].fillna(training_set['Fare'].median(), inplace = True)\n",
        "training_set['Embarked'].fillna(training_set['Embarked'].mode()[0], inplace = True)\n",
        "\n",
        "test_set['Age'].fillna(test_set['Age'].median(), inplace = True)\n",
        "test_set['Fare'].fillna(test_set['Fare'].median(), inplace = True)\n",
        "test_set['Embarked'].fillna(test_set['Embarked'].mode()[0], inplace = True)"
      ],
      "execution_count": null,
      "outputs": [
        {
          "output_type": "stream",
          "text": [
            "/usr/local/lib/python3.7/dist-packages/pandas/core/series.py:4536: SettingWithCopyWarning: \n",
            "A value is trying to be set on a copy of a slice from a DataFrame\n",
            "\n",
            "See the caveats in the documentation: https://pandas.pydata.org/pandas-docs/stable/user_guide/indexing.html#returning-a-view-versus-a-copy\n",
            "  downcast=downcast,\n"
          ],
          "name": "stderr"
        }
      ]
    },
    {
      "cell_type": "code",
      "metadata": {
        "colab": {
          "base_uri": "https://localhost:8080/"
        },
        "id": "GR-wIeDrfNjH",
        "outputId": "a178fddc-f598-43b2-8dda-2ec36557593f"
      },
      "source": [
        "training_set.isnull().sum()"
      ],
      "execution_count": null,
      "outputs": [
        {
          "output_type": "execute_result",
          "data": {
            "text/plain": [
              "PassengerId        0\n",
              "Survived           0\n",
              "Pclass             0\n",
              "Name               0\n",
              "Sex                0\n",
              "Age                0\n",
              "SibSp              0\n",
              "Parch              0\n",
              "Ticket          3723\n",
              "Fare               0\n",
              "Cabin          54212\n",
              "Embarked           0\n",
              "dtype: int64"
            ]
          },
          "metadata": {
            "tags": []
          },
          "execution_count": 72
        }
      ]
    },
    {
      "cell_type": "code",
      "metadata": {
        "colab": {
          "base_uri": "https://localhost:8080/"
        },
        "id": "LcEv-XE0fisJ",
        "outputId": "416b6eae-2497-4898-fae9-1bdbca91f3f0"
      },
      "source": [
        "test_set.isnull().sum()"
      ],
      "execution_count": null,
      "outputs": [
        {
          "output_type": "execute_result",
          "data": {
            "text/plain": [
              "PassengerId        0\n",
              "Survived           0\n",
              "Pclass             0\n",
              "Name               0\n",
              "Sex                0\n",
              "Age                0\n",
              "SibSp              0\n",
              "Parch              0\n",
              "Ticket           900\n",
              "Fare               0\n",
              "Cabin          13654\n",
              "Embarked           0\n",
              "dtype: int64"
            ]
          },
          "metadata": {
            "tags": []
          },
          "execution_count": 73
        }
      ]
    },
    {
      "cell_type": "markdown",
      "metadata": {
        "id": "IWPlX5y8vQnH"
      },
      "source": [
        "* Cabin values ​​are not expected to be used because there are many missing values ​​and are not expected to be related to survival.\n",
        "* The name and ticket also don't seem to have any special relationship to survival, so I won't use it."
      ]
    },
    {
      "cell_type": "code",
      "metadata": {
        "colab": {
          "base_uri": "https://localhost:8080/",
          "height": 200
        },
        "id": "4LfPQxCBKaVO",
        "outputId": "cc465c97-f9a7-42b8-f029-f010158aab42"
      },
      "source": [
        "# check head\n",
        "training_set.head()"
      ],
      "execution_count": null,
      "outputs": [
        {
          "output_type": "execute_result",
          "data": {
            "text/html": [
              "<div>\n",
              "<style scoped>\n",
              "    .dataframe tbody tr th:only-of-type {\n",
              "        vertical-align: middle;\n",
              "    }\n",
              "\n",
              "    .dataframe tbody tr th {\n",
              "        vertical-align: top;\n",
              "    }\n",
              "\n",
              "    .dataframe thead th {\n",
              "        text-align: right;\n",
              "    }\n",
              "</style>\n",
              "<table border=\"1\" class=\"dataframe\">\n",
              "  <thead>\n",
              "    <tr style=\"text-align: right;\">\n",
              "      <th></th>\n",
              "      <th>PassengerId</th>\n",
              "      <th>Survived</th>\n",
              "      <th>Pclass</th>\n",
              "      <th>Name</th>\n",
              "      <th>Sex</th>\n",
              "      <th>Age</th>\n",
              "      <th>SibSp</th>\n",
              "      <th>Parch</th>\n",
              "      <th>Ticket</th>\n",
              "      <th>Fare</th>\n",
              "      <th>Cabin</th>\n",
              "      <th>Embarked</th>\n",
              "    </tr>\n",
              "  </thead>\n",
              "  <tbody>\n",
              "    <tr>\n",
              "      <th>875</th>\n",
              "      <td>875</td>\n",
              "      <td>0</td>\n",
              "      <td>3</td>\n",
              "      <td>Mcmillon, Julia</td>\n",
              "      <td>female</td>\n",
              "      <td>63.0</td>\n",
              "      <td>0</td>\n",
              "      <td>0</td>\n",
              "      <td>209066</td>\n",
              "      <td>8.01</td>\n",
              "      <td>NaN</td>\n",
              "      <td>S</td>\n",
              "    </tr>\n",
              "    <tr>\n",
              "      <th>4548</th>\n",
              "      <td>4548</td>\n",
              "      <td>0</td>\n",
              "      <td>1</td>\n",
              "      <td>Diaz, Earnest</td>\n",
              "      <td>male</td>\n",
              "      <td>20.0</td>\n",
              "      <td>0</td>\n",
              "      <td>0</td>\n",
              "      <td>441261</td>\n",
              "      <td>57.29</td>\n",
              "      <td>NaN</td>\n",
              "      <td>S</td>\n",
              "    </tr>\n",
              "    <tr>\n",
              "      <th>17439</th>\n",
              "      <td>17439</td>\n",
              "      <td>1</td>\n",
              "      <td>3</td>\n",
              "      <td>Campbell, Margaret</td>\n",
              "      <td>female</td>\n",
              "      <td>57.0</td>\n",
              "      <td>0</td>\n",
              "      <td>0</td>\n",
              "      <td>NaN</td>\n",
              "      <td>8.06</td>\n",
              "      <td>NaN</td>\n",
              "      <td>S</td>\n",
              "    </tr>\n",
              "    <tr>\n",
              "      <th>40369</th>\n",
              "      <td>40369</td>\n",
              "      <td>1</td>\n",
              "      <td>2</td>\n",
              "      <td>Hazel, Mary</td>\n",
              "      <td>female</td>\n",
              "      <td>58.0</td>\n",
              "      <td>0</td>\n",
              "      <td>1</td>\n",
              "      <td>24901</td>\n",
              "      <td>12.19</td>\n",
              "      <td>NaN</td>\n",
              "      <td>C</td>\n",
              "    </tr>\n",
              "    <tr>\n",
              "      <th>34564</th>\n",
              "      <td>34564</td>\n",
              "      <td>1</td>\n",
              "      <td>2</td>\n",
              "      <td>Rundle, Jose</td>\n",
              "      <td>male</td>\n",
              "      <td>64.0</td>\n",
              "      <td>0</td>\n",
              "      <td>0</td>\n",
              "      <td>434348</td>\n",
              "      <td>265.80</td>\n",
              "      <td>NaN</td>\n",
              "      <td>S</td>\n",
              "    </tr>\n",
              "  </tbody>\n",
              "</table>\n",
              "</div>"
            ],
            "text/plain": [
              "      PassengerId Survived Pclass  ...    Fare Cabin  Embarked\n",
              "875           875        0      3  ...    8.01   NaN         S\n",
              "4548         4548        0      1  ...   57.29   NaN         S\n",
              "17439       17439        1      3  ...    8.06   NaN         S\n",
              "40369       40369        1      2  ...   12.19   NaN         C\n",
              "34564       34564        1      2  ...  265.80   NaN         S\n",
              "\n",
              "[5 rows x 12 columns]"
            ]
          },
          "metadata": {
            "tags": []
          },
          "execution_count": 74
        }
      ]
    },
    {
      "cell_type": "markdown",
      "metadata": {
        "id": "4qVzkQscZnjk"
      },
      "source": [
        "* Name, ticket, and Cabin do not seem to be related to survival prediction, and Cabin was excluded because there were many missing values."
      ]
    },
    {
      "cell_type": "code",
      "metadata": {
        "id": "YtcPopCqu8r6"
      },
      "source": [
        "drop_features = ['Name','Ticket','Cabin']\n",
        "training_set = training_set.drop(drop_features, axis=1)\n",
        "test_set=test_set.drop(drop_features, axis = 1)\n"
      ],
      "execution_count": null,
      "outputs": []
    },
    {
      "cell_type": "code",
      "metadata": {
        "colab": {
          "base_uri": "https://localhost:8080/",
          "height": 200
        },
        "id": "r6pLMbVvu8pF",
        "outputId": "e21cc5b3-7019-475b-ffc7-acec6e4cf809"
      },
      "source": [
        "training_set.head()"
      ],
      "execution_count": null,
      "outputs": [
        {
          "output_type": "execute_result",
          "data": {
            "text/html": [
              "<div>\n",
              "<style scoped>\n",
              "    .dataframe tbody tr th:only-of-type {\n",
              "        vertical-align: middle;\n",
              "    }\n",
              "\n",
              "    .dataframe tbody tr th {\n",
              "        vertical-align: top;\n",
              "    }\n",
              "\n",
              "    .dataframe thead th {\n",
              "        text-align: right;\n",
              "    }\n",
              "</style>\n",
              "<table border=\"1\" class=\"dataframe\">\n",
              "  <thead>\n",
              "    <tr style=\"text-align: right;\">\n",
              "      <th></th>\n",
              "      <th>PassengerId</th>\n",
              "      <th>Survived</th>\n",
              "      <th>Pclass</th>\n",
              "      <th>Sex</th>\n",
              "      <th>Age</th>\n",
              "      <th>SibSp</th>\n",
              "      <th>Parch</th>\n",
              "      <th>Fare</th>\n",
              "      <th>Embarked</th>\n",
              "    </tr>\n",
              "  </thead>\n",
              "  <tbody>\n",
              "    <tr>\n",
              "      <th>86046</th>\n",
              "      <td>86046</td>\n",
              "      <td>0</td>\n",
              "      <td>3</td>\n",
              "      <td>male</td>\n",
              "      <td>32.0</td>\n",
              "      <td>0.0</td>\n",
              "      <td>0.0</td>\n",
              "      <td>10.98</td>\n",
              "      <td>S</td>\n",
              "    </tr>\n",
              "    <tr>\n",
              "      <th>42976</th>\n",
              "      <td>42976</td>\n",
              "      <td>0</td>\n",
              "      <td>3</td>\n",
              "      <td>male</td>\n",
              "      <td>26.0</td>\n",
              "      <td>0.0</td>\n",
              "      <td>0.0</td>\n",
              "      <td>8.49</td>\n",
              "      <td>S</td>\n",
              "    </tr>\n",
              "    <tr>\n",
              "      <th>74917</th>\n",
              "      <td>74917</td>\n",
              "      <td>1</td>\n",
              "      <td>1</td>\n",
              "      <td>female</td>\n",
              "      <td>34.0</td>\n",
              "      <td>0.0</td>\n",
              "      <td>0.0</td>\n",
              "      <td>4.45</td>\n",
              "      <td>S</td>\n",
              "    </tr>\n",
              "    <tr>\n",
              "      <th>5772</th>\n",
              "      <td>5772</td>\n",
              "      <td>0</td>\n",
              "      <td>2</td>\n",
              "      <td>female</td>\n",
              "      <td>3.0</td>\n",
              "      <td>0.0</td>\n",
              "      <td>0.0</td>\n",
              "      <td>21.11</td>\n",
              "      <td>S</td>\n",
              "    </tr>\n",
              "    <tr>\n",
              "      <th>85386</th>\n",
              "      <td>85386</td>\n",
              "      <td>0</td>\n",
              "      <td>1</td>\n",
              "      <td>male</td>\n",
              "      <td>56.0</td>\n",
              "      <td>0.0</td>\n",
              "      <td>0.0</td>\n",
              "      <td>169.18</td>\n",
              "      <td>C</td>\n",
              "    </tr>\n",
              "  </tbody>\n",
              "</table>\n",
              "</div>"
            ],
            "text/plain": [
              "      PassengerId Survived Pclass     Sex   Age  SibSp  Parch    Fare Embarked\n",
              "86046       86046        0      3    male  32.0    0.0    0.0   10.98        S\n",
              "42976       42976        0      3    male  26.0    0.0    0.0    8.49        S\n",
              "74917       74917        1      1  female  34.0    0.0    0.0    4.45        S\n",
              "5772         5772        0      2  female   3.0    0.0    0.0   21.11        S\n",
              "85386       85386        0      1    male  56.0    0.0    0.0  169.18        C"
            ]
          },
          "metadata": {
            "tags": []
          },
          "execution_count": 51
        }
      ]
    },
    {
      "cell_type": "markdown",
      "metadata": {
        "id": "C3ukoUuk12kA"
      },
      "source": [
        "##### Encode cateogrical feature\n",
        "- Convert categorical feature represented in string format into numerical representation.\n",
        "- Use `OneHotEncoder` for nominal features, and `OrdinalEncoder` for ordinal features.\n"
      ]
    },
    {
      "cell_type": "code",
      "metadata": {
        "id": "kIvF7nfTOJtF"
      },
      "source": [
        "nom_feat = ['Sex','Embarked']\n",
        "ord_feat = ['Pclass']\n",
        "num_feat = ['Age','SibSp','Parch','Fare']\n"
      ],
      "execution_count": null,
      "outputs": []
    },
    {
      "cell_type": "code",
      "metadata": {
        "colab": {
          "base_uri": "https://localhost:8080/"
        },
        "id": "gOWa4GCOXjQw",
        "outputId": "da82312e-3547-4b91-c217-9a19606508ac"
      },
      "source": [
        "data = training_set.copy()\n",
        "#data=data[nom_feat].dropna(axis=0)\n",
        "\n",
        "\n",
        "X_train = data.loc[:,['Pclass','Sex','Age','SibSp','Parch','Fare','Embarked']]\n",
        "\n",
        "X_train=X_train.dropna(axis=0)\n",
        "print(X_train)\n",
        "y_train = data.loc[:,['Survived']]\n",
        "y_train=y_train.astype('int')\n"
      ],
      "execution_count": null,
      "outputs": [
        {
          "output_type": "stream",
          "text": [
            "      Pclass     Sex   Age  SibSp  Parch    Fare Embarked\n",
            "875        3  female  63.0      0      0    8.01        S\n",
            "4548       1    male  20.0      0      0   57.29        S\n",
            "17439      3  female  57.0      0      0    8.06        S\n",
            "40369      2  female  58.0      0      1   12.19        C\n",
            "34564      2    male  64.0      0      0  265.80        S\n",
            "...      ...     ...   ...    ...    ...     ...      ...\n",
            "69131      3    male  33.0      0      0   37.24        S\n",
            "84810      1  female  49.0      1      0  339.98        S\n",
            "89419      3    male  27.0      0      0   25.92        S\n",
            "73806      1  female  33.0      0      0   66.52        Q\n",
            "22083      1    male  25.0      1      0   75.17        S\n",
            "\n",
            "[80000 rows x 7 columns]\n"
          ],
          "name": "stdout"
        }
      ]
    },
    {
      "cell_type": "code",
      "metadata": {
        "id": "DPd6G0LcKYFW"
      },
      "source": [
        "from sklearn.preprocessing import OneHotEncoder,OrdinalEncoder"
      ],
      "execution_count": null,
      "outputs": []
    },
    {
      "cell_type": "code",
      "metadata": {
        "id": "gKLJTBqGLXPo"
      },
      "source": [
        "ohe = OneHotEncoder(sparse=False)\n",
        "oe = OrdinalEncoder()\n",
        "\n",
        "ohe.fit(X_train[nom_feat].values) #only fit training data\n",
        "oe.fit(X_train[ord_feat].values)\n",
        "\n",
        "X_train_nom = ohe.transform(X_train[nom_feat].values)\n",
        "X_train_ord = oe.transform(X_train[ord_feat].values)\n"
      ],
      "execution_count": null,
      "outputs": []
    },
    {
      "cell_type": "code",
      "metadata": {
        "colab": {
          "base_uri": "https://localhost:8080/"
        },
        "id": "GCjVKttRSr4B",
        "outputId": "f885f5e5-70e9-4e9e-fd9f-81ea8f73c69d"
      },
      "source": [
        "X_train_nom.shape,X_train_ord.shape"
      ],
      "execution_count": null,
      "outputs": [
        {
          "output_type": "execute_result",
          "data": {
            "text/plain": [
              "((80000, 5), (80000, 1))"
            ]
          },
          "metadata": {
            "tags": []
          },
          "execution_count": 80
        }
      ]
    },
    {
      "cell_type": "code",
      "metadata": {
        "colab": {
          "base_uri": "https://localhost:8080/"
        },
        "id": "kZwvqPSn0cPC",
        "outputId": "bd8404e0-1524-4f86-8f1f-63be1610ef97"
      },
      "source": [
        "X_train_nom"
      ],
      "execution_count": null,
      "outputs": [
        {
          "output_type": "execute_result",
          "data": {
            "text/plain": [
              "array([[1., 0., 0., 0., 1.],\n",
              "       [0., 1., 0., 0., 1.],\n",
              "       [1., 0., 0., 0., 1.],\n",
              "       ...,\n",
              "       [0., 1., 0., 0., 1.],\n",
              "       [1., 0., 0., 1., 0.],\n",
              "       [0., 1., 0., 0., 1.]])"
            ]
          },
          "metadata": {
            "tags": []
          },
          "execution_count": 82
        }
      ]
    },
    {
      "cell_type": "code",
      "metadata": {
        "colab": {
          "base_uri": "https://localhost:8080/"
        },
        "id": "14X-c1rA1Wvf",
        "outputId": "09b39d21-2fa9-4570-ab5d-7aa393b6f714"
      },
      "source": [
        "X_train_ord"
      ],
      "execution_count": null,
      "outputs": [
        {
          "output_type": "execute_result",
          "data": {
            "text/plain": [
              "array([[2.],\n",
              "       [0.],\n",
              "       [2.],\n",
              "       ...,\n",
              "       [2.],\n",
              "       [0.],\n",
              "       [0.]])"
            ]
          },
          "metadata": {
            "tags": []
          },
          "execution_count": 83
        }
      ]
    },
    {
      "cell_type": "code",
      "metadata": {
        "id": "YQdFrkYvTQ7e"
      },
      "source": [
        "from sklearn.preprocessing import StandardScaler\n",
        "\n",
        "\n",
        "scalar = StandardScaler()\n",
        "scalar.fit(X_train[num_feat].values)\n",
        "X_train_num = scalar.transform(X_train[num_feat].values)"
      ],
      "execution_count": null,
      "outputs": []
    },
    {
      "cell_type": "code",
      "metadata": {
        "colab": {
          "base_uri": "https://localhost:8080/"
        },
        "id": "IWZlB32b0vPC",
        "outputId": "a2d56d3f-1e86-41a6-e979-ccad245b8094"
      },
      "source": [
        "X_train_num.shape"
      ],
      "execution_count": null,
      "outputs": [
        {
          "output_type": "execute_result",
          "data": {
            "text/plain": [
              "(80000, 4)"
            ]
          },
          "metadata": {
            "tags": []
          },
          "execution_count": 84
        }
      ]
    },
    {
      "cell_type": "code",
      "metadata": {
        "colab": {
          "base_uri": "https://localhost:8080/"
        },
        "id": "2kQ_T6ar01eQ",
        "outputId": "347d55df-eb1c-482a-a8f0-40fd31ce1fa8"
      },
      "source": [
        "X_train = np.concatenate([X_train_num, X_train_ord, X_train_nom], axis=1)\n",
        "X_train.shape\n"
      ],
      "execution_count": null,
      "outputs": [
        {
          "output_type": "execute_result",
          "data": {
            "text/plain": [
              "(80000, 10)"
            ]
          },
          "metadata": {
            "tags": []
          },
          "execution_count": 85
        }
      ]
    },
    {
      "cell_type": "code",
      "metadata": {
        "colab": {
          "base_uri": "https://localhost:8080/"
        },
        "id": "ki9ZEYWi01V6",
        "outputId": "0480fd20-b6c1-4c20-985f-d19a3b3f9be4"
      },
      "source": [
        "X_train"
      ],
      "execution_count": null,
      "outputs": [
        {
          "output_type": "execute_result",
          "data": {
            "text/plain": [
              "array([[ 1.36721658, -0.46207663, -0.47620118, ...,  0.        ,\n",
              "         0.        ,  1.        ],\n",
              "       [-1.02135901, -0.46207663, -0.47620118, ...,  0.        ,\n",
              "         0.        ,  1.        ],\n",
              "       [ 1.03392696, -0.46207663, -0.47620118, ...,  0.        ,\n",
              "         0.        ,  1.        ],\n",
              "       ...,\n",
              "       [-0.63252113, -0.46207663, -0.47620118, ...,  0.        ,\n",
              "         0.        ,  1.        ],\n",
              "       [-0.29923151, -0.46207663, -0.47620118, ...,  0.        ,\n",
              "         1.        ,  0.        ],\n",
              "       [-0.74361767,  0.70034375, -0.47620118, ...,  0.        ,\n",
              "         0.        ,  1.        ]])"
            ]
          },
          "metadata": {
            "tags": []
          },
          "execution_count": 86
        }
      ]
    },
    {
      "cell_type": "markdown",
      "metadata": {
        "id": "PgaqT6UUiqyi"
      },
      "source": [
        "##Usage of appropriate models (15 points) \n",
        "###Use at least three different models for the task\n"
      ]
    },
    {
      "cell_type": "markdown",
      "metadata": {
        "id": "ni0PXW2evEow"
      },
      "source": [
        "* Here, I used logistic regression, decision tree, linear svc, and random forest for classification. (4 models are used)\n",
        "* After fitting the model, I compared the performance between the models by printing the score indicating the accuracy.\n",
        "* Only the random forest is unusually high at 0.99, and the other three models look similar at 0.76."
      ]
    },
    {
      "cell_type": "code",
      "metadata": {
        "colab": {
          "base_uri": "https://localhost:8080/"
        },
        "id": "xsBJ4LROiKmy",
        "outputId": "9403846e-f3bd-471a-b93f-1fd544e7e98c"
      },
      "source": [
        "from sklearn.linear_model import LogisticRegression\n",
        "\n",
        "log_reg = LogisticRegression()\n",
        "log_reg.fit(X_train, y_train)\n",
        "print('Score: {}'.format(log_reg.score(X_train, y_train)))"
      ],
      "execution_count": null,
      "outputs": [
        {
          "output_type": "stream",
          "text": [
            "/usr/local/lib/python3.7/dist-packages/sklearn/utils/validation.py:760: DataConversionWarning: A column-vector y was passed when a 1d array was expected. Please change the shape of y to (n_samples, ), for example using ravel().\n",
            "  y = column_or_1d(y, warn=True)\n"
          ],
          "name": "stderr"
        },
        {
          "output_type": "stream",
          "text": [
            "Score: 0.767225\n"
          ],
          "name": "stdout"
        }
      ]
    },
    {
      "cell_type": "code",
      "metadata": {
        "colab": {
          "base_uri": "https://localhost:8080/"
        },
        "id": "Db7xU-oCiKhB",
        "outputId": "f8b61c09-9c23-445e-c22d-49d84c4b2eb5"
      },
      "source": [
        "from sklearn.tree import DecisionTreeClassifier\n",
        "tree_clf = DecisionTreeClassifier(max_depth=3, random_state=13)\n",
        "tree_clf.fit(X_train, y_train)\n",
        "print('Score: {}'.format(tree_clf.score(X_train, y_train)))"
      ],
      "execution_count": null,
      "outputs": [
        {
          "output_type": "stream",
          "text": [
            "Score: 0.764325\n"
          ],
          "name": "stdout"
        }
      ]
    },
    {
      "cell_type": "code",
      "metadata": {
        "colab": {
          "base_uri": "https://localhost:8080/"
        },
        "id": "hedhLnS4-b91",
        "outputId": "8a380d76-f14d-4aa7-b769-cf91ba1ced1b"
      },
      "source": [
        "from sklearn.svm import LinearSVC\n",
        "svc_clf = LinearSVC()\n",
        "svc_clf.fit(X_train, y_train)\n",
        "print('Score: {}'.format(svc_clf.score(X_train, y_train)))"
      ],
      "execution_count": null,
      "outputs": [
        {
          "output_type": "stream",
          "text": [
            "/usr/local/lib/python3.7/dist-packages/sklearn/utils/validation.py:760: DataConversionWarning: A column-vector y was passed when a 1d array was expected. Please change the shape of y to (n_samples, ), for example using ravel().\n",
            "  y = column_or_1d(y, warn=True)\n"
          ],
          "name": "stderr"
        },
        {
          "output_type": "stream",
          "text": [
            "Score: 0.7671125\n"
          ],
          "name": "stdout"
        },
        {
          "output_type": "stream",
          "text": [
            "/usr/local/lib/python3.7/dist-packages/sklearn/svm/_base.py:947: ConvergenceWarning: Liblinear failed to converge, increase the number of iterations.\n",
            "  \"the number of iterations.\", ConvergenceWarning)\n"
          ],
          "name": "stderr"
        }
      ]
    },
    {
      "cell_type": "code",
      "metadata": {
        "colab": {
          "base_uri": "https://localhost:8080/"
        },
        "id": "RE500yxNpuqQ",
        "outputId": "e78c72e7-7f23-4c11-f038-71fe010a1ba1"
      },
      "source": [
        "from sklearn.ensemble import RandomForestClassifier\n",
        "\n",
        "rf_clf = RandomForestClassifier(n_estimators=100)\n",
        "rf_clf.fit(X_train, y_train)\n",
        "print('Score: {}'.format(rf_clf.score(X_train, y_train)))"
      ],
      "execution_count": null,
      "outputs": [
        {
          "output_type": "stream",
          "text": [
            "/usr/local/lib/python3.7/dist-packages/ipykernel_launcher.py:4: DataConversionWarning: A column-vector y was passed when a 1d array was expected. Please change the shape of y to (n_samples,), for example using ravel().\n",
            "  after removing the cwd from sys.path.\n"
          ],
          "name": "stderr"
        },
        {
          "output_type": "stream",
          "text": [
            "Score: 0.993775\n"
          ],
          "name": "stdout"
        }
      ]
    },
    {
      "cell_type": "markdown",
      "metadata": {
        "id": "tLSo9gograJe"
      },
      "source": [
        "##Usage of appropriate evaluation measures with useful visualizations (20 points) \n",
        "###(e.g., ROC curve, k-fold CV result with an error bar, etc.)"
      ]
    },
    {
      "cell_type": "markdown",
      "metadata": {
        "id": "fnli62CsvoHR"
      },
      "source": [
        ""
      ]
    },
    {
      "cell_type": "code",
      "metadata": {
        "colab": {
          "base_uri": "https://localhost:8080/"
        },
        "id": "tL86PdaDr_EW",
        "outputId": "3698b9ea-47dc-434f-aab0-afcba0e91087"
      },
      "source": [
        "data = test_set.copy()\n",
        "#data=data[nom_feat].dropna(axis=0)\n",
        "\n",
        "\n",
        "X_test = data.loc[:,['Pclass','Sex','Age','SibSp','Parch','Fare','Embarked']]\n",
        "\n",
        "X_test=X_test.dropna(axis=0)\n",
        "print(X_test)\n",
        "y_test = data.loc[:,['Survived']]\n",
        "y_test=y_test.astype('int')\n"
      ],
      "execution_count": null,
      "outputs": [
        {
          "output_type": "stream",
          "text": [
            "      Pclass     Sex   Age  SibSp  Parch   Fare Embarked\n",
            "25548      3    male   1.0      1      1  29.85        S\n",
            "28709      1  female  64.0      0      0  78.65        C\n",
            "73922      3    male  38.0      0      0  11.94        S\n",
            "36958      1    male  46.0      3      2  78.25        S\n",
            "59718      3    male  23.0      0      0   8.56        S\n",
            "...      ...     ...   ...    ...    ...    ...      ...\n",
            "15778      3  female  63.0      0      0  31.36        C\n",
            "58454      3    male  35.0      0      1  10.81        S\n",
            "21480      3    male  34.0      0      0  10.65        S\n",
            "25554      2    male  71.0      0      0  10.29        C\n",
            "39273      2  female  16.0      0      1  11.47        C\n",
            "\n",
            "[20000 rows x 7 columns]\n"
          ],
          "name": "stdout"
        }
      ]
    },
    {
      "cell_type": "code",
      "metadata": {
        "id": "klFoTQwtr_B7"
      },
      "source": [
        "from sklearn.preprocessing import OneHotEncoder,OrdinalEncoder"
      ],
      "execution_count": null,
      "outputs": []
    },
    {
      "cell_type": "code",
      "metadata": {
        "id": "1lrPPfmtr-5j"
      },
      "source": [
        "ohe = OneHotEncoder(sparse=False)\n",
        "oe = OrdinalEncoder()\n",
        "\n",
        "ohe.fit(X_test[nom_feat].values) \n",
        "oe.fit(X_test[ord_feat].values)\n",
        "\n",
        "X_test_nom = ohe.transform(X_test[nom_feat].values)\n",
        "X_test_ord = oe.transform(X_test[ord_feat].values)"
      ],
      "execution_count": null,
      "outputs": []
    },
    {
      "cell_type": "code",
      "metadata": {
        "colab": {
          "base_uri": "https://localhost:8080/"
        },
        "id": "-IQal4dDufsO",
        "outputId": "5392d854-bd19-41bf-e517-4a6d08ca4cd6"
      },
      "source": [
        "X_test_nom.shape,X_test_ord.shape"
      ],
      "execution_count": null,
      "outputs": [
        {
          "output_type": "execute_result",
          "data": {
            "text/plain": [
              "((20000, 5), (20000, 1))"
            ]
          },
          "metadata": {
            "tags": []
          },
          "execution_count": 94
        }
      ]
    },
    {
      "cell_type": "code",
      "metadata": {
        "id": "ZDnrPS8HuWsf"
      },
      "source": [
        "from sklearn.preprocessing import StandardScaler\n",
        "\n",
        "\n",
        "scalar = StandardScaler()\n",
        "scalar.fit(X_test[num_feat].values)\n",
        "X_test_num = scalar.transform(X_test[num_feat].values)"
      ],
      "execution_count": null,
      "outputs": []
    },
    {
      "cell_type": "code",
      "metadata": {
        "colab": {
          "base_uri": "https://localhost:8080/"
        },
        "id": "5oDAtB0XuWp5",
        "outputId": "f2ddac3e-5e8d-4b96-f46b-e0059de4e066"
      },
      "source": [
        "X_test_num.shape"
      ],
      "execution_count": null,
      "outputs": [
        {
          "output_type": "execute_result",
          "data": {
            "text/plain": [
              "(20000, 4)"
            ]
          },
          "metadata": {
            "tags": []
          },
          "execution_count": 96
        }
      ]
    },
    {
      "cell_type": "code",
      "metadata": {
        "colab": {
          "base_uri": "https://localhost:8080/"
        },
        "id": "uH6CfjJmuWnQ",
        "outputId": "40e65fe3-b3c5-4bdc-fb4a-14693f64497a"
      },
      "source": [
        "X_test = np.concatenate([X_test_num, X_test_ord, X_test_nom], axis=1)\n",
        "X_test.shape"
      ],
      "execution_count": null,
      "outputs": [
        {
          "output_type": "execute_result",
          "data": {
            "text/plain": [
              "(20000, 10)"
            ]
          },
          "metadata": {
            "tags": []
          },
          "execution_count": 97
        }
      ]
    },
    {
      "cell_type": "markdown",
      "metadata": {
        "id": "32SzMQ-zvqlD"
      },
      "source": [
        "## ROC curve, k-fold CV result with an error bar\n"
      ]
    },
    {
      "cell_type": "markdown",
      "metadata": {
        "id": "nuFjiXu9wi1q"
      },
      "source": [
        "* I made a prediction using the test data and calculated how accurate it is by comparing it with the correct answer as accuracy_score.\n",
        "* The accuracy of the model was similar at about 0.76 except for the random forest was 0.72."
      ]
    },
    {
      "cell_type": "code",
      "metadata": {
        "colab": {
          "base_uri": "https://localhost:8080/"
        },
        "id": "YiUCwFs9vrJs",
        "outputId": "32f04e2c-98f2-4b24-d84c-41637a1fb627"
      },
      "source": [
        "from sklearn.metrics import accuracy_score\n",
        "\n",
        "log_pred = log_reg.predict(X_test)\n",
        "print('LogisticRegression accuracy: {0:.4f}'.format(accuracy_score(y_test, log_pred)))\n",
        "\n",
        "tree_pred = tree_clf.predict(X_test)\n",
        "print('DecisionTreeClassifier accuracy: {0:.4f}'.format(accuracy_score(y_test, tree_pred)))\n",
        "\n",
        "svc_pred = svc_clf.predict(X_test)\n",
        "print('SupportVectorMachine accuracy: {0:.4f}'.format(accuracy_score(y_test, svc_pred)))\n",
        "\n",
        "rf_pred = rf_clf.predict(X_test)\n",
        "print('RandomForestClassifier accuracy:{0:.4f}'.format(accuracy_score(y_test, rf_pred)))\n",
        "\n"
      ],
      "execution_count": null,
      "outputs": [
        {
          "output_type": "stream",
          "text": [
            "LogisticRegression accuracy: 0.7649\n",
            "DecisionTreeClassifier accuracy: 0.7613\n",
            "SupportVectorMachine accuracy: 0.7645\n",
            "RandomForestClassifier accuracy:0.7204\n"
          ],
          "name": "stdout"
        }
      ]
    },
    {
      "cell_type": "markdown",
      "metadata": {
        "id": "n0_E-9mQxbhs"
      },
      "source": [
        "* I did cross validation to find out more accurately.By using 5 folds, the accuracy on small data is improved.\n",
        "* The average accuracy of the models was calculated. Except for the random forest 0.72, the rest of the models came out similar to 0.76."
      ]
    },
    {
      "cell_type": "code",
      "metadata": {
        "colab": {
          "base_uri": "https://localhost:8080/"
        },
        "id": "1tPByVA8yqJf",
        "outputId": "bc6059cd-18bc-434b-cb7a-35f34e0e4f8d"
      },
      "source": [
        "from sklearn.model_selection import cross_val_score\n",
        "\n",
        "scores = cross_val_score(log_reg, X_train,y_train, cv=5)\n",
        "scores_1 = cross_val_score(tree_clf, X_train,y_train, cv=5)\n",
        "scores_2 = cross_val_score(svc_clf, X_train,y_train, cv=5)\n",
        "scores_3 = cross_val_score(rf_clf, X_train,y_train, cv=5)\n",
        "'''\n",
        "for iter_count,accuracy in enumerate(scores):\n",
        "    print(\"cross validation {0} accuracy: {1:.4f}\".format(iter_count, accuracy))\n",
        "print(\"mean accuracy of {0}: {1:.4f}\".format(,np.mean(scores)))    \n",
        "for iter_count,accuracy in enumerate(scores_1):\n",
        "    print(\"cross validation {0} accuracy: {1:.4f}\".format(iter_count, accuracy))\n",
        "for iter_count,accuracy in enumerate(scores_2):\n",
        "    print(\"cross validation {0} accuracy: {1:.4f}\".format(iter_count, accuracy))\n",
        "for iter_count,accuracy in enumerate(scores_3):\n",
        "    print(\"cross validation {0} accuracy: {1:.4f}\".format(iter_count, accuracy))\n",
        "'''\n",
        " \n",
        "print(\"mean accuracy of {0}: {1:.4f}\".format('LogisticRegression',np.mean(scores)))\n",
        "print(\"mean accuracy of {0}: {1:.4f}\".format('DecisionTreeClassifier',np.mean(scores_1)))\n",
        "print(\"mean accuracy of {0}: {1:.4f}\".format('SupportVectorMachine',np.mean(scores_2)))\n",
        "print(\"mean accuracy of {0}: {1:.4f}\".format('RandomForestClassifier',np.mean(scores_3)))\n"
      ],
      "execution_count": null,
      "outputs": [
        {
          "output_type": "stream",
          "text": [
            "/usr/local/lib/python3.7/dist-packages/sklearn/utils/validation.py:760: DataConversionWarning: A column-vector y was passed when a 1d array was expected. Please change the shape of y to (n_samples, ), for example using ravel().\n",
            "  y = column_or_1d(y, warn=True)\n",
            "/usr/local/lib/python3.7/dist-packages/sklearn/utils/validation.py:760: DataConversionWarning: A column-vector y was passed when a 1d array was expected. Please change the shape of y to (n_samples, ), for example using ravel().\n",
            "  y = column_or_1d(y, warn=True)\n",
            "/usr/local/lib/python3.7/dist-packages/sklearn/utils/validation.py:760: DataConversionWarning: A column-vector y was passed when a 1d array was expected. Please change the shape of y to (n_samples, ), for example using ravel().\n",
            "  y = column_or_1d(y, warn=True)\n",
            "/usr/local/lib/python3.7/dist-packages/sklearn/utils/validation.py:760: DataConversionWarning: A column-vector y was passed when a 1d array was expected. Please change the shape of y to (n_samples, ), for example using ravel().\n",
            "  y = column_or_1d(y, warn=True)\n",
            "/usr/local/lib/python3.7/dist-packages/sklearn/utils/validation.py:760: DataConversionWarning: A column-vector y was passed when a 1d array was expected. Please change the shape of y to (n_samples, ), for example using ravel().\n",
            "  y = column_or_1d(y, warn=True)\n",
            "/usr/local/lib/python3.7/dist-packages/sklearn/utils/validation.py:760: DataConversionWarning: A column-vector y was passed when a 1d array was expected. Please change the shape of y to (n_samples, ), for example using ravel().\n",
            "  y = column_or_1d(y, warn=True)\n",
            "/usr/local/lib/python3.7/dist-packages/sklearn/svm/_base.py:947: ConvergenceWarning: Liblinear failed to converge, increase the number of iterations.\n",
            "  \"the number of iterations.\", ConvergenceWarning)\n",
            "/usr/local/lib/python3.7/dist-packages/sklearn/utils/validation.py:760: DataConversionWarning: A column-vector y was passed when a 1d array was expected. Please change the shape of y to (n_samples, ), for example using ravel().\n",
            "  y = column_or_1d(y, warn=True)\n",
            "/usr/local/lib/python3.7/dist-packages/sklearn/svm/_base.py:947: ConvergenceWarning: Liblinear failed to converge, increase the number of iterations.\n",
            "  \"the number of iterations.\", ConvergenceWarning)\n",
            "/usr/local/lib/python3.7/dist-packages/sklearn/utils/validation.py:760: DataConversionWarning: A column-vector y was passed when a 1d array was expected. Please change the shape of y to (n_samples, ), for example using ravel().\n",
            "  y = column_or_1d(y, warn=True)\n",
            "/usr/local/lib/python3.7/dist-packages/sklearn/svm/_base.py:947: ConvergenceWarning: Liblinear failed to converge, increase the number of iterations.\n",
            "  \"the number of iterations.\", ConvergenceWarning)\n",
            "/usr/local/lib/python3.7/dist-packages/sklearn/utils/validation.py:760: DataConversionWarning: A column-vector y was passed when a 1d array was expected. Please change the shape of y to (n_samples, ), for example using ravel().\n",
            "  y = column_or_1d(y, warn=True)\n",
            "/usr/local/lib/python3.7/dist-packages/sklearn/svm/_base.py:947: ConvergenceWarning: Liblinear failed to converge, increase the number of iterations.\n",
            "  \"the number of iterations.\", ConvergenceWarning)\n",
            "/usr/local/lib/python3.7/dist-packages/sklearn/utils/validation.py:760: DataConversionWarning: A column-vector y was passed when a 1d array was expected. Please change the shape of y to (n_samples, ), for example using ravel().\n",
            "  y = column_or_1d(y, warn=True)\n",
            "/usr/local/lib/python3.7/dist-packages/sklearn/svm/_base.py:947: ConvergenceWarning: Liblinear failed to converge, increase the number of iterations.\n",
            "  \"the number of iterations.\", ConvergenceWarning)\n",
            "/usr/local/lib/python3.7/dist-packages/sklearn/model_selection/_validation.py:515: DataConversionWarning: A column-vector y was passed when a 1d array was expected. Please change the shape of y to (n_samples,), for example using ravel().\n",
            "  estimator.fit(X_train, y_train, **fit_params)\n",
            "/usr/local/lib/python3.7/dist-packages/sklearn/model_selection/_validation.py:515: DataConversionWarning: A column-vector y was passed when a 1d array was expected. Please change the shape of y to (n_samples,), for example using ravel().\n",
            "  estimator.fit(X_train, y_train, **fit_params)\n",
            "/usr/local/lib/python3.7/dist-packages/sklearn/model_selection/_validation.py:515: DataConversionWarning: A column-vector y was passed when a 1d array was expected. Please change the shape of y to (n_samples,), for example using ravel().\n",
            "  estimator.fit(X_train, y_train, **fit_params)\n",
            "/usr/local/lib/python3.7/dist-packages/sklearn/model_selection/_validation.py:515: DataConversionWarning: A column-vector y was passed when a 1d array was expected. Please change the shape of y to (n_samples,), for example using ravel().\n",
            "  estimator.fit(X_train, y_train, **fit_params)\n",
            "/usr/local/lib/python3.7/dist-packages/sklearn/model_selection/_validation.py:515: DataConversionWarning: A column-vector y was passed when a 1d array was expected. Please change the shape of y to (n_samples,), for example using ravel().\n",
            "  estimator.fit(X_train, y_train, **fit_params)\n"
          ],
          "name": "stderr"
        },
        {
          "output_type": "stream",
          "text": [
            "mean accuracy of LogisticRegression: 0.7672\n",
            "mean accuracy of DecisionTreeClassifier: 0.7643\n",
            "mean accuracy of SupportVectorMachine: 0.7668\n",
            "mean accuracy of RandomForestClassifier: 0.7272\n"
          ],
          "name": "stdout"
        }
      ]
    },
    {
      "cell_type": "code",
      "metadata": {
        "id": "Kea4vjRKQLDj"
      },
      "source": [
        "from sklearn.metrics import confusion_matrix, plot_confusion_matrix, classification_report, precision_recall_fscore_support,roc_auc_score, accuracy_score, precision_score, recall_score, f1_score\n",
        "\n",
        "y_pred_test = log_reg.predict(X_test)\n",
        "y_proba_test = log_reg.predict_proba(X_test)[:, 1]\n",
        "\n",
        "y_pred_test_1 = tree_clf.predict(X_test)\n",
        "y_proba_test_1 = tree_clf.predict_proba(X_test)[:, 1]\n",
        "\n",
        "y_pred_test_2 = svc_clf.predict(X_test)\n",
        "Y=svc_clf.decision_function(X_test)\n",
        "y_proba_test_2 = (Y-Y.min()) / (Y.max()-Y.min())\n",
        "\n",
        "y_pred_test_3 = rf_clf.predict(X_test)\n",
        "y_proba_test_3 = rf_clf.predict_proba(X_test)[:, 1]\n"
      ],
      "execution_count": null,
      "outputs": []
    },
    {
      "cell_type": "markdown",
      "metadata": {
        "id": "EZByCqQ77_Z1"
      },
      "source": [
        "* False positive rate (FPR) and true positive rate (TPR) mean values ​​displayed on the x and y axes of the ROC curve, respectively.\n",
        "* The closer the roc curve is to the top left (wider area), the better the classifier."
      ]
    },
    {
      "cell_type": "code",
      "metadata": {
        "id": "6mlvu-R9P9hH"
      },
      "source": [
        "from sklearn.metrics import auc, roc_curve\n",
        "\n",
        "fpr, tpr, threshold = roc_curve(y_test, y_proba_test)\n",
        "rocauc = auc(fpr, tpr)\n",
        "\n",
        "fpr_1, tpr_1, threshold_1 = roc_curve(y_test, y_proba_test_1)\n",
        "rocauc_1 = auc(fpr_1, tpr_1)\n",
        "\n",
        "fpr_2, tpr_2, threshold_2 = roc_curve(y_test, y_proba_test_2)\n",
        "rocauc_2 = auc(fpr_2, tpr_2)\n",
        "\n",
        "fpr_3, tpr_3, threshold_3 = roc_curve(y_test, y_proba_test_3)\n",
        "rocauc_3 = auc(fpr_3, tpr_3)"
      ],
      "execution_count": null,
      "outputs": []
    },
    {
      "cell_type": "markdown",
      "metadata": {
        "id": "9Pq9slni8gUJ"
      },
      "source": [
        "* Here, logistic regression was the best classifier with area = 0.8249, followed by linear svc (area = 0.8243), decision tree (area = 0.8214), and random forest (area = 0.7919)."
      ]
    },
    {
      "cell_type": "code",
      "metadata": {
        "colab": {
          "base_uri": "https://localhost:8080/",
          "height": 295
        },
        "id": "QRY1yu-bQHdJ",
        "outputId": "a0067739-715d-4157-b254-747e9f1ed039"
      },
      "source": [
        "plt.figure()\n",
        "plt.plot(fpr, tpr,color = 'red',label=f'ROC curve (area={rocauc:.4f})')\n",
        "plt.plot(fpr_1,tpr_1,color = 'lime',label=f'ROC curve (area={rocauc_1:.4f})')\n",
        "plt.plot(fpr_2,tpr_2,color = 'orange',label=f'ROC curve (area={rocauc_2:.4f})')\n",
        "plt.plot(fpr_3,tpr_3,color = 'aqua',label=f'ROC curve (area={rocauc_3:.4f})')\n",
        "plt.plot([0, 1], [0, 1], color='navy', lw=2, linestyle='--')\n",
        "\n",
        "plt.xlim([0.0, 1.0])\n",
        "plt.ylim([0.0, 1.05])\n",
        "\n",
        "plt.xlabel('False Positive Rate')\n",
        "plt.ylabel('True Positive Rate')\n",
        "plt.title('Receiver operating characteristic example')\n",
        "plt.legend(loc=\"lower right\")\n",
        "plt.show()"
      ],
      "execution_count": null,
      "outputs": [
        {
          "output_type": "display_data",
          "data": {
            "image/png": "[encoded data removed]",
            "text/plain": [
              "<Figure size 432x288 with 1 Axes>"
            ]
          },
          "metadata": {
            "tags": [],
            "needs_background": "light"
          }
        }
      ]
    },
    {
      "cell_type": "markdown",
      "metadata": {
        "id": "lIHAUgNd9zsf"
      },
      "source": [
        "##Thorough post-analysis of results (including implications) (25points)\n",
        "### What insights were you able to gain from this data?"
      ]
    },
    {
      "cell_type": "markdown",
      "metadata": {
        "id": "TU6ueotr97pv"
      },
      "source": [
        "* In real data, there are so many missing values ​​(especially Cabin here) that we need to reasonably infer the missing values.\n",
        "* The decision to boldly erase data not considered to be related to survival and to fill in missing values ​​with the mode or median was also important.\n",
        "* Through EDA, I found that the relationship between sex and survival rate was different from the hypothesis, and the Pclass was like the hypothesis.\n",
        "* The relationship between age and survival rate could not be easily defined, but the survival rate was lower in the younger group, which made it slightly different from the hypothesis.\n",
        "* As a result, I can see that healthy men did not run away to live first, but tried to save women and elderly children first. And it was also known that the rooms were in a more favorable position for the higher classes to survive.\n",
        "* These factors seemed to have a definite impact on survival. So, in order to increase the survival rate, I thought it would be better to prioritize a room in a good location (a room with a high PClass) to an elderly woman."
      ]
    },
    {
      "cell_type": "markdown",
      "metadata": {
        "id": "zWbx572iYtue"
      },
      "source": [
        "* Family-related factors were removed to confirm the hypothesis that only gender, age, and Pclass (Fare) were related to survival prediction.\n",
        "* Then, the following model evaluation process was performed after removing the family element to check whether the family element really had no significant effect on survival."
      ]
    },
    {
      "cell_type": "markdown",
      "metadata": {
        "id": "vQHTDEeHUrUD"
      },
      "source": [
        "* \n",
        "Data generation to make a model using only Sex, Age, Fare, and Pclass except for SibSp and Parch."
      ]
    },
    {
      "cell_type": "code",
      "metadata": {
        "colab": {
          "base_uri": "https://localhost:8080/"
        },
        "id": "aa9ZZEzdTMGW",
        "outputId": "9bafe238-a80e-44eb-dd7c-08e875cd5734"
      },
      "source": [
        "data = training_set.copy()\n",
        "\n",
        "nom_feat_1 = ['Sex']\n",
        "num_feat_1 = ['Age','Fare']\n",
        "ord_feat = ['Pclass']\n",
        "#data=data[nom_feat].dropna(axis=0)\n",
        "\n",
        "X_train = data.loc[:,['Pclass','Sex','Age','SibSp','Parch','Fare','Embarked']]\n",
        "\n",
        "X_train=X_train.dropna(axis=0)\n",
        "y_train = data.loc[:,['Survived']]\n",
        "y_train=y_train.astype('int')\n",
        "\n",
        "ohe = OneHotEncoder(sparse=False)\n",
        "oe = OrdinalEncoder()\n",
        "\n",
        "ohe.fit(X_train[nom_feat_1].values) #only fit training data\n",
        "oe.fit(X_train[ord_feat].values)\n",
        "\n",
        "X_train_nom_1 = ohe.transform(X_train[nom_feat_1].values)\n",
        "X_train_ord_1 = oe.transform(X_train[ord_feat].values)\n",
        "\n",
        "scalar = StandardScaler()\n",
        "scalar.fit(X_train[num_feat_1].values)\n",
        "X_train_num_1 = scalar.transform(X_train[num_feat_1].values)\n",
        "\n",
        "X_train_1 = np.concatenate([X_train_num_1, X_train_ord_1, X_train_nom_1], axis=1)\n",
        "X_train_1.shape\n",
        "print(X_train_1)\n"
      ],
      "execution_count": null,
      "outputs": [
        {
          "output_type": "stream",
          "text": [
            "[[ 1.36721658 -0.51789326  2.          1.          0.        ]\n",
            " [-1.02135901  0.18976329  0.          0.          1.        ]\n",
            " [ 1.03392696 -0.51717527  2.          1.          0.        ]\n",
            " ...\n",
            " [-0.63252113 -0.26070721  2.          0.          1.        ]\n",
            " [-0.29923151  0.32230529  0.          1.          0.        ]\n",
            " [-0.74361767  0.44651854  0.          0.          1.        ]]\n"
          ],
          "name": "stdout"
        }
      ]
    },
    {
      "cell_type": "code",
      "metadata": {
        "colab": {
          "base_uri": "https://localhost:8080/"
        },
        "id": "NvvW9N8UTZLm",
        "outputId": "fab88ecf-216a-4dcc-c7f4-65d43c714406"
      },
      "source": [
        "data = test_set.copy()\n",
        "nom_feat_1 = ['Sex']\n",
        "num_feat_1 = ['Age','Fare']\n",
        "ord_feat = ['Pclass']\n",
        "#data=data[nom_feat].dropna(axis=0)\n",
        "\n",
        "X_test = data.loc[:,['Pclass','Sex','Age','SibSp','Parch','Fare','Embarked']]\n",
        "X_test=X_test.dropna(axis=0)\n",
        "y_test = data.loc[:,['Survived']]\n",
        "y_test=y_test.astype('int')\n",
        "\n",
        "ohe = OneHotEncoder(sparse=False)\n",
        "oe = OrdinalEncoder()\n",
        "\n",
        "ohe.fit(X_test[nom_feat_1].values) #only fit training data\n",
        "oe.fit(X_test[ord_feat].values)\n",
        "\n",
        "X_test_nom_1 = ohe.transform(X_test[nom_feat_1].values)\n",
        "X_test_ord_1 = oe.transform(X_test[ord_feat].values)\n",
        "\n",
        "scalar = StandardScaler()\n",
        "scalar.fit(X_test[num_feat_1].values)\n",
        "X_test_num_1 = scalar.transform(X_test[num_feat_1].values)\n",
        "\n",
        "X_test_1 = np.concatenate([X_test_num_1, X_test_ord_1, X_test_nom_1], axis=1)\n",
        "X_test_1.shape\n",
        "print(X_test_1)\n"
      ],
      "execution_count": null,
      "outputs": [
        {
          "output_type": "stream",
          "text": [
            "[[-2.06964377 -0.1932292   2.          0.          1.        ]\n",
            " [ 1.42263481  0.51229261  0.          1.          0.        ]\n",
            " [-0.01862302 -0.45216149  2.          0.          1.        ]\n",
            " ...\n",
            " [-0.24035499 -0.47081155  2.          0.          1.        ]\n",
            " [ 1.81066576 -0.47601622  1.          0.          1.        ]\n",
            " [-1.23814887 -0.45895647  1.          1.          0.        ]]\n"
          ],
          "name": "stdout"
        }
      ]
    },
    {
      "cell_type": "code",
      "metadata": {
        "colab": {
          "base_uri": "https://localhost:8080/"
        },
        "id": "zQwUHZruSd_g",
        "outputId": "24e4064d-2d40-452f-8d5f-ae51bc248082"
      },
      "source": [
        "from sklearn.linear_model import LogisticRegression\n",
        "\n",
        "log_reg = LogisticRegression()\n",
        "log_reg.fit(X_train_1, y_train)\n",
        "\n",
        "\n",
        "from sklearn.tree import DecisionTreeClassifier\n",
        "tree_clf = DecisionTreeClassifier(max_depth=3, random_state=13)\n",
        "tree_clf.fit(X_train_1, y_train)\n",
        "\n",
        "\n",
        "from sklearn.svm import LinearSVC\n",
        "svc_clf = LinearSVC()\n",
        "svc_clf.fit(X_train_1, y_train)\n",
        "\n",
        "\n",
        "from sklearn.ensemble import RandomForestClassifier\n",
        "rf_clf = RandomForestClassifier(n_estimators=100)\n",
        "rf_clf.fit(X_train_1, y_train)\n",
        "\n",
        "print('Score: {}'.format(log_reg.score(X_train_1, y_train)))\n",
        "print('Score: {}'.format(tree_clf.score(X_train_1, y_train)))\n",
        "print('Score: {}'.format(svc_clf.score(X_train_1, y_train)))\n",
        "print('Score: {}'.format(rf_clf.score(X_train_1, y_train)))"
      ],
      "execution_count": null,
      "outputs": [
        {
          "output_type": "stream",
          "text": [
            "/usr/local/lib/python3.7/dist-packages/sklearn/utils/validation.py:760: DataConversionWarning: A column-vector y was passed when a 1d array was expected. Please change the shape of y to (n_samples, ), for example using ravel().\n",
            "  y = column_or_1d(y, warn=True)\n",
            "/usr/local/lib/python3.7/dist-packages/sklearn/utils/validation.py:760: DataConversionWarning: A column-vector y was passed when a 1d array was expected. Please change the shape of y to (n_samples, ), for example using ravel().\n",
            "  y = column_or_1d(y, warn=True)\n",
            "/usr/local/lib/python3.7/dist-packages/sklearn/svm/_base.py:947: ConvergenceWarning: Liblinear failed to converge, increase the number of iterations.\n",
            "  \"the number of iterations.\", ConvergenceWarning)\n",
            "/usr/local/lib/python3.7/dist-packages/ipykernel_launcher.py:19: DataConversionWarning: A column-vector y was passed when a 1d array was expected. Please change the shape of y to (n_samples,), for example using ravel().\n"
          ],
          "name": "stderr"
        },
        {
          "output_type": "stream",
          "text": [
            "Score: 0.7582\n",
            "Score: 0.7581\n",
            "Score: 0.7583\n",
            "Score: 0.9861625\n"
          ],
          "name": "stdout"
        }
      ]
    },
    {
      "cell_type": "markdown",
      "metadata": {
        "id": "qJvaWcU6CjUj"
      },
      "source": [
        "* Except for the random forest 0.72, the accuracy was 0.76, but the random forest decreased to 0.68 and the rest to 0.75"
      ]
    },
    {
      "cell_type": "code",
      "metadata": {
        "colab": {
          "base_uri": "https://localhost:8080/"
        },
        "id": "v2hm9BfBWrrE",
        "outputId": "9610cf80-b352-41a5-9daf-a1cf4f53fa5a"
      },
      "source": [
        "log_pred = log_reg.predict(X_test_1)\n",
        "tree_pred = tree_clf.predict(X_test_1)\n",
        "svc_pred = svc_clf.predict(X_test_1)\n",
        "rf_pred = rf_clf.predict(X_test_1)\n",
        "\n",
        "print('LogisticRegression accuracy: {0:.4f}'.format(accuracy_score(y_test, log_pred)))\n",
        "print('DecisionTreeClassifier accuracy: {0:.4f}'.format(accuracy_score(y_test, tree_pred)))\n",
        "print('SupportVectorMachine accuracy: {0:.4f}'.format(accuracy_score(y_test, svc_pred)))\n",
        "print('RandomForestClassifier accuracy:{0:.4f}'.format(accuracy_score(y_test, rf_pred)))"
      ],
      "execution_count": null,
      "outputs": [
        {
          "output_type": "stream",
          "text": [
            "LogisticRegression accuracy: 0.7571\n",
            "DecisionTreeClassifier accuracy: 0.7572\n",
            "SupportVectorMachine accuracy: 0.7572\n",
            "RandomForestClassifier accuracy:0.6895\n"
          ],
          "name": "stdout"
        }
      ]
    },
    {
      "cell_type": "markdown",
      "metadata": {
        "id": "o7Mr1BcLDnAv"
      },
      "source": [
        "* The Roc curve was also a random forest (area = 0.79) and the remaining area = 0.82, which decreased to 0.76 and 0.81, respectively.\n",
        "* Contrary to the hypothesis, factors related to the number of family members had a significant effect on survival prediction.\n",
        "* Seeing this, I thought that if there were family members, the ability to survive by protecting the members increased."
      ]
    },
    {
      "cell_type": "code",
      "metadata": {
        "id": "9DtQafblYCnh"
      },
      "source": [
        "from sklearn.metrics import confusion_matrix, plot_confusion_matrix, classification_report, precision_recall_fscore_support,roc_auc_score, accuracy_score, precision_score, recall_score, f1_score\n",
        "\n",
        "y_pred_test = log_reg.predict(X_test_1)\n",
        "y_proba_test = log_reg.predict_proba(X_test_1)[:, 1]\n",
        "\n",
        "y_pred_test_1 = tree_clf.predict(X_test_1)\n",
        "y_proba_test_1 = tree_clf.predict_proba(X_test_1)[:, 1]\n",
        "\n",
        "y_pred_test_2 = svc_clf.predict(X_test_1)\n",
        "Y=svc_clf.decision_function(X_test_1)\n",
        "y_proba_test_2 = (Y-Y.min()) / (Y.max()-Y.min())\n",
        "\n",
        "y_pred_test_3 = rf_clf.predict(X_test_1)\n",
        "y_proba_test_3 = rf_clf.predict_proba(X_test_1)[:, 1]\n",
        "\n",
        "from sklearn.metrics import auc, roc_curve\n",
        "\n",
        "fpr, tpr, threshold = roc_curve(y_test, y_proba_test)\n",
        "rocauc = auc(fpr, tpr)\n",
        "\n",
        "fpr_1, tpr_1, threshold_1 = roc_curve(y_test, y_proba_test_1)\n",
        "rocauc_1 = auc(fpr_1, tpr_1)\n",
        "\n",
        "fpr_2, tpr_2, threshold_2 = roc_curve(y_test, y_proba_test_2)\n",
        "rocauc_2 = auc(fpr_2, tpr_2)\n",
        "\n",
        "fpr_3, tpr_3, threshold_3 = roc_curve(y_test, y_proba_test_3)\n",
        "rocauc_3 = auc(fpr_3, tpr_3)"
      ],
      "execution_count": null,
      "outputs": []
    },
    {
      "cell_type": "code",
      "metadata": {
        "colab": {
          "base_uri": "https://localhost:8080/",
          "height": 295
        },
        "id": "6SCaueRdYLSK",
        "outputId": "87f6f6b5-0e67-47fb-afff-6edfc26c41b2"
      },
      "source": [
        "plt.figure()\n",
        "plt.plot(fpr, tpr,color = 'red',label=f'ROC curve (area={rocauc:.4f})')\n",
        "plt.plot(fpr_1,tpr_1,color = 'lime',label=f'ROC curve (area={rocauc_1:.4f})')\n",
        "plt.plot(fpr_2, tpr_2,color = 'orange',label=f'ROC curve (area={rocauc_2:.4f})')\n",
        "plt.plot(fpr_3,tpr_3,color = 'aqua',label=f'ROC curve (area={rocauc_3:.4f})')\n",
        "plt.plot([0, 1], [0, 1], color='navy', lw=2, linestyle='--')\n",
        "\n",
        "plt.xlim([0.0, 1.0])\n",
        "plt.ylim([0.0, 1.05])\n",
        "\n",
        "plt.xlabel('False Positive Rate')\n",
        "plt.ylabel('True Positive Rate')\n",
        "plt.title('Receiver operating characteristic example')\n",
        "plt.legend(loc=\"lower right\")\n",
        "plt.show()"
      ],
      "execution_count": null,
      "outputs": [
        {
          "output_type": "display_data",
          "data": {
            "image/png": "[encoded data removed]",
            "text/plain": [
              "<Figure size 432x288 with 1 Axes>"
            ]
          },
          "metadata": {
            "tags": [],
            "needs_background": "light"
          }
        }
      ]
    }
  ]
}