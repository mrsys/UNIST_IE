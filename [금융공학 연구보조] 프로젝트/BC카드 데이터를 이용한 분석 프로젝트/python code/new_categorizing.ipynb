{
 "cells": [
  {
   "cell_type": "markdown",
   "metadata": {},
   "source": [
    "### 데이터 로딩"
   ]
  },
  {
   "cell_type": "code",
   "execution_count": 1,
   "metadata": {},
   "outputs": [
    {
     "name": "stderr",
     "output_type": "stream",
     "text": [
      "C:\\ana3\\envs\\t_f2.2\\lib\\site-packages\\numpy\\_distributor_init.py:30: UserWarning: loaded more than 1 DLL from .libs:\n",
      "C:\\ana3\\envs\\t_f2.2\\lib\\site-packages\\numpy\\.libs\\libopenblas.NOIJJG62EMASZI6NYURL6JBKM4EVBGM7.gfortran-win_amd64.dll\n",
      "C:\\ana3\\envs\\t_f2.2\\lib\\site-packages\\numpy\\.libs\\libopenblas.WCDJNK7YVMPZQ2ME2ZZHJJRJ3JIKNDB7.gfortran-win_amd64.dll\n",
      "  warnings.warn(\"loaded more than 1 DLL from .libs:\"\n"
     ]
    }
   ],
   "source": [
    "import pandas as pd\n",
    "import numpy as np\n",
    "\n"
   ]
  },
  {
   "cell_type": "code",
   "execution_count": 2,
   "metadata": {},
   "outputs": [],
   "source": [
    "data = pd.read_csv(\"C:/Users/김건우/Desktop/UNIST/4학년 1학기/프로젝트랩/data/울산과학기술원_20.4월.txt\", encoding='euc-kr')"
   ]
  },
  {
   "cell_type": "code",
   "execution_count": 135,
   "metadata": {},
   "outputs": [],
   "source": [
    "temp = data"
   ]
  },
  {
   "cell_type": "code",
   "execution_count": 166,
   "metadata": {},
   "outputs": [],
   "source": [
    "data = pd.read_csv(\"C:/Users/김건우/Desktop/UNIST/4학년 1학기/프로젝트랩/data/data_19_0106.csv\")\n",
    "temp = data[data['기준년월']==201902]"
   ]
  },
  {
   "cell_type": "markdown",
   "metadata": {},
   "source": [
    "### Dask"
   ]
  },
  {
   "cell_type": "code",
   "execution_count": 1,
   "metadata": {},
   "outputs": [
    {
     "name": "stderr",
     "output_type": "stream",
     "text": [
      "C:\\ana3\\envs\\t_f2.2\\lib\\site-packages\\numpy\\_distributor_init.py:30: UserWarning: loaded more than 1 DLL from .libs:\n",
      "C:\\ana3\\envs\\t_f2.2\\lib\\site-packages\\numpy\\.libs\\libopenblas.NOIJJG62EMASZI6NYURL6JBKM4EVBGM7.gfortran-win_amd64.dll\n",
      "C:\\ana3\\envs\\t_f2.2\\lib\\site-packages\\numpy\\.libs\\libopenblas.WCDJNK7YVMPZQ2ME2ZZHJJRJ3JIKNDB7.gfortran-win_amd64.dll\n",
      "  warnings.warn(\"loaded more than 1 DLL from .libs:\"\n"
     ]
    }
   ],
   "source": [
    "import dask.dataframe as dd\n",
    "import dask.array as da\n",
    "import pandas as pd\n",
    "import numpy as np\n",
    "\n",
    "df_1 = dd.read_csv(\"C:/Users/김건우/Desktop/UNIST/4학년 1학기/프로젝트랩/data/data_19_0106.csv\")\n",
    "df_2 = dd.read_csv('C:/Users/김건우/Desktop/UNIST/4학년 1학기/프로젝트랩/data/data_19_0712.csv')\n",
    "df_3 = dd.read_csv(\"C:/Users/김건우/Desktop/UNIST/4학년 1학기/프로젝트랩/data/data_20_0103.csv\")\n",
    "df_4 = dd.read_csv(\"data_april.csv\")\n",
    "\n",
    "data = [df_1, df_2, df_3, df_4]\n",
    "x = da.concatenate(data, axis=0)\n",
    "\n",
    "dask_columns = ['index','기준년월', '고객유형', '가맹점소재지1', '가맹점소재지2', '가맹점소재지3', '업종대분류명', '업종중분류명',\n",
    "        '업종소분류명', '성별', '연령대별', '가구생애주기별', '연평균소득추정', '이용금액', '이용건수']\n",
    "\n",
    "tmp_df = dd.io.from_dask_array(x,columns = dask_columns)"
   ]
  },
  {
   "cell_type": "code",
   "execution_count": 3,
   "metadata": {},
   "outputs": [],
   "source": [
    "total_data = tmp_df.to_csv(\"total_data_dask.csv\",single_file = True)"
   ]
  },
  {
   "cell_type": "code",
   "execution_count": 6,
   "metadata": {},
   "outputs": [],
   "source": [
    "data_all = pd.read_csv('total_data_dask.csv')"
   ]
  },
  {
   "cell_type": "code",
   "execution_count": null,
   "metadata": {},
   "outputs": [],
   "source": [
    "data_all = data_all.drop([data_all.columns[0],data_all.columns[1]],axis=1)"
   ]
  },
  {
   "cell_type": "markdown",
   "metadata": {},
   "source": [
    "### new 업종분류"
   ]
  },
  {
   "cell_type": "code",
   "execution_count": 196,
   "metadata": {},
   "outputs": [],
   "source": [
    "tmp = temp  # 월벼로 들어가는 데이터"
   ]
  },
  {
   "cell_type": "code",
   "execution_count": 111,
   "metadata": {},
   "outputs": [],
   "source": [
    "'''tmp = pd.read_csv('C:/Users/김건우/Desktop/UNIST/4학년 1학기/프로젝트랩/data/울산과학기술원_20.4월.txt', \n",
    "                   engine='python', encoding='euc-kr')'''"
   ]
  },
  {
   "cell_type": "code",
   "execution_count": 197,
   "metadata": {
    "scrolled": true
   },
   "outputs": [],
   "source": [
    "middle_category_money = tmp['업종중분류명'] == '유통업영리'\n",
    "middle_category_not_money = tmp['업종중분류명'] == '유통업비영리'\n",
    "\n",
    "large_category_life = tmp['업종대분류명'] == '생활'\n",
    "large_category_shopping = tmp['업종대분류명'] == '쇼핑'\n",
    "\n",
    "life_not_money_ = tmp[middle_category_not_money&large_category_life]\n",
    "life_money_ = tmp[middle_category_money&large_category_life]\n",
    "shopping_money_ = tmp[middle_category_money&large_category_shopping]"
   ]
  },
  {
   "cell_type": "code",
   "execution_count": 198,
   "metadata": {
    "scrolled": true
   },
   "outputs": [],
   "source": [
    "# 쇼핑 유통업영리 이용건수 총 합 -> 대형 판매에 들어가는 일반백화점, 대형할인점, 면세점만 \n",
    "split_shopping_money_1 = shopping_money_['업종소분류명'].str.contains('대형할인점|일반백화점|면세점')\n",
    "shopping_money_1 = shopping_money_[split_shopping_money_1]\n",
    "shopping_money_1_sum = shopping_money_1.groupby(['업종소분류명'],as_index = False).sum()['이용건수']\n",
    "\n",
    "# 쇼핑 유통업영리 이용건수 총 합 -> 전자상거래에 들어가는 통신판매, 홈쇼핑, PG상품권 \n",
    "split_shopping_money_2 = shopping_money_['업종소분류명'].str.contains('통신판매|홈쇼핑|PG상품권')\n",
    "shopping_money_2 = shopping_money_[split_shopping_money_2]\n",
    "shopping_money_2_sum = shopping_money_1.groupby(['업종소분류명'],as_index = False).sum()['이용건수']\n",
    "\n",
    "# 생활 유통업비영리 이용건수 총 합 -> 종합소매에 들어가는 all\n",
    "life_not_money_sum = life_not_money_.groupby(['업종소분류명'],as_index = False).sum()['이용건수']\n",
    "\n",
    "\n",
    "# 생활 유통업영리 이용건수 총합 -> 종합소매에 들어가는 슈퍼마켓 편의점, 연쇄점,복지, 매점, 농축수산가공품\n",
    "split_life_money_1 = life_money_['업종소분류명'].str.contains('슈퍼마켓|편의점|연쇄점|복지매점|농축수산가공품')\n",
    "life_money_1 = life_money_[split_life_money_1]\n",
    "life_money_1_sum = life_money_1.groupby(['업종소분류명'],as_index = False).sum()['이용건수']\n",
    "\n",
    "# 생활 유통업영리 이용건수 총합 -> 전자상거래에 들어가는 인터넷종합Mall|상품권|인터넷PG|복지매점|전자상거래상품권\n",
    "split_life_money_2 = life_money_['업종소분류명'].str.contains('인터넷종합Mall|상품권|인터넷PG|전자상거래상품권|인터넷Mall')\n",
    "life_money_2 = life_money_[split_life_money_2]\n",
    "life_money_2_sum = life_money_2.groupby(['업종소분류명'],as_index = False).sum()['이용건수']"
   ]
  },
  {
   "cell_type": "code",
   "execution_count": 199,
   "metadata": {
    "scrolled": true
   },
   "outputs": [
    {
     "data": {
      "text/plain": [
       "\"Large_sum = tmp_df.groupby(['Large'],as_index = False).sum()['Count']\\nfor i in range(len(Large_sum)):\\n    a = {tmp_df['Large'].unique()[i] : Large_sum[i]}\\n    print(a)\""
      ]
     },
     "execution_count": 199,
     "metadata": {},
     "output_type": "execute_result"
    }
   ],
   "source": [
    "tmp_data_1904 = tmp[['업종대분류명','업종중분류명','업종소분류명','이용건수']]\n",
    "tmp_df = tmp_data_1904.groupby(['업종대분류명', '업종중분류명','업종소분류명'], as_index=False).sum()\n",
    "tmp_df.columns = ['Large','Middle','Small','Count']\n",
    "tmp_df = pd.DataFrame(tmp_df)\n",
    "'''Large_sum = tmp_df.groupby(['Large'],as_index = False).sum()['Count']\n",
    "for i in range(len(Large_sum)):\n",
    "    a = {tmp_df['Large'].unique()[i] : Large_sum[i]}\n",
    "    print(a)'''"
   ]
  },
  {
   "cell_type": "code",
   "execution_count": 200,
   "metadata": {
    "scrolled": true
   },
   "outputs": [],
   "source": [
    "classified_df =  pd.read_excel('column_categorize_bc_card.xlsx')\n",
    "concat_name = pd.DataFrame(classified_df['Large'] + '-' + classified_df['Middle'])\n",
    "concat_name = concat_name.dropna()\n",
    "new_classified = pd.concat([concat_name,classified_df['분류'],classified_df['total count']],axis=1)\n",
    "new_classified.columns = ['category','num','total count']\n",
    "new_category_name = list(classified_df['종목'][:16])\n",
    "new_category_name += '대형판매', '종합소매', '전자상거래'\n",
    "num_name = list(classified_df['기준'][:16])"
   ]
  },
  {
   "cell_type": "code",
   "execution_count": 201,
   "metadata": {},
   "outputs": [],
   "source": [
    "for i in range(len(new_classified)):\n",
    "    if new_classified['num'][i] == 'x':\n",
    "        continue\n",
    "    elif int(new_classified['num'][i]) == 1:\n",
    "        new_classified.at[i,'new_category_name'] = new_category_name[0]\n",
    "        \n",
    "    elif int(new_classified['num'][i]) == 2:\n",
    "        new_classified.at[i,'new_category_name'] = new_category_name[1]\n",
    "        \n",
    "    elif int(new_classified['num'][i]) == 3:\n",
    "        new_classified.at[i,'new_category_name'] = new_category_name[2]\n",
    "        \n",
    "    elif int(new_classified['num'][i]) == 4:\n",
    "        new_classified.at[i,'new_category_name'] = new_category_name[3]\n",
    "    \n",
    "    elif int(new_classified['num'][i]) == 5:\n",
    "        new_classified.at[i,'new_category_name'] = new_category_name[4]\n",
    "    \n",
    "    elif int(new_classified['num'][i]) == 6:\n",
    "        new_classified.at[i,'new_category_name'] = new_category_name[5]\n",
    "        \n",
    "    elif int(new_classified['num'][i]) == 7:\n",
    "        new_classified.at[i,'new_category_name'] = new_category_name[6]\n",
    "        \n",
    "    elif int(new_classified['num'][i]) == 8:\n",
    "        new_classified.at[i,'new_category_name'] = new_category_name[7]\n",
    "        \n",
    "    elif int(new_classified['num'][i]) == 9:\n",
    "        new_classified.at[i,'new_category_name'] = new_category_name[8]\n",
    "        \n",
    "    elif int(new_classified['num'][i]) == 10:\n",
    "        new_classified.at[i,'new_category_name'] = new_category_name[9]    \n",
    "        \n",
    "    elif int(new_classified['num'][i]) == 11:\n",
    "        new_classified.at[i,'new_category_name'] = new_category_name[10]\n",
    "        \n",
    "    elif int(new_classified['num'][i]) == 12:\n",
    "        new_classified.at[i,'new_category_name'] = new_category_name[11]\n",
    "        \n",
    "    elif int(new_classified['num'][i]) == 13:\n",
    "        new_classified.at[i,'new_category_name'] = new_category_name[12]\n",
    "    \n",
    "    else:\n",
    "        continue\n"
   ]
  },
  {
   "cell_type": "code",
   "execution_count": 202,
   "metadata": {},
   "outputs": [],
   "source": [
    "added_category = {\n",
    "    'category' : ['일반백화점','슈퍼마켓','홈쇼핑'],\n",
    "    'num' : ['x','x','x'],\n",
    "    'total count' : [shopping_money_1_sum.sum(), \n",
    "                     life_not_money_sum.sum()+life_money_1_sum.sum(),\n",
    "                    life_money_2_sum.sum()+shopping_money_2_sum.sum()],\n",
    "    'new_category_name' : ['대형 판매', '종합소매', '전자상거래']\n",
    "}\n",
    "added_df = pd.DataFrame(added_category)"
   ]
  },
  {
   "cell_type": "code",
   "execution_count": 203,
   "metadata": {
    "scrolled": true
   },
   "outputs": [],
   "source": [
    "new_classified = new_classified.dropna()\n",
    "new_classified = pd.concat([new_classified,added_df],axis=0)\n",
    "new_classified = new_classified.drop(['num'],axis=1)\n",
    "new_classified = new_classified.reset_index()\n",
    "new_classified = new_classified.drop(['index'],axis=1)"
   ]
  },
  {
   "cell_type": "markdown",
   "metadata": {},
   "source": [
    "### 임시 pandas 분류 -> 사용 x"
   ]
  },
  {
   "cell_type": "markdown",
   "metadata": {},
   "source": [
    "### 4.29 추가한거"
   ]
  },
  {
   "cell_type": "code",
   "execution_count": null,
   "metadata": {},
   "outputs": [],
   "source": [
    "z = tmp[:100]\n",
    "z['category'] = z['업종대분류명']+ '-' + z['업종중분류명']\n",
    "z = z[['category','업종소분류명']]\n",
    "aaa_list = []\n",
    "\n",
    "for i in tqdm(range(len(z)),'진행도'):\n",
    "    for k in range(len(new_classified)):\n",
    "        if z['category'][i] == new_classified['category'][k]:\n",
    "            z.at[i,'new_category_name'] = new_classified['new_category_name'].iloc[k]\n",
    "            aaa_list.append(new_classified['new_category_name'].iloc[k])\n",
    "            \n",
    "        elif z['category'][i] == '생활-유통업영리':\n",
    "            if z['업종소분류명'][i] in life_money_1['업종소분류명'].unique():\n",
    "                z.at[i,'new_category_name'] = '종합소매'\n",
    "                aaa_list.append('종합소매')\n",
    "            elif z['업종소분류명'][i] in life_money_2['업종소분류명'].unique():\n",
    "                z.at[i,'new_category_name'] = '전자상거래'\n",
    "                aaa_list.append('전자상거래')\n",
    "                \n",
    "        elif z['category'][i] == '생활-유통업비영리':\n",
    "            z.at[i,'new_category_name'] = '종합소매'\n",
    "            aaa_list.append('종합소매')\n",
    "            \n",
    "        elif z['category'][i] == '쇼핑-유통업영리':\n",
    "            if z['업종소분류명'][i] in shopping_money_1['업종소분류명'].unique():\n",
    "                z.at[i,'new_category_name'] = '대형 판매'\n",
    "                aaa_list.append('대형 판매')\n",
    "            elif z['업종소분류명'][i] in shopping_money_2['업종소분류명'].unique():\n",
    "                z.at[i,'new_category_name'] = '전자상거래'\n",
    "                aaa_list.append('전자상거래')"
   ]
  },
  {
   "cell_type": "code",
   "execution_count": 204,
   "metadata": {},
   "outputs": [],
   "source": [
    "### str -> int mapping\n",
    "\n",
    "def change_category (df):\n",
    "    new_list = []\n",
    "    a = list(df.category.unique())\n",
    "    for i in range(len(a)):\n",
    "        new_list.append(i)\n",
    "    dic = {key:value for key,value in zip(a,new_list)}\n",
    "    return dic\n",
    "\n",
    "def change_upjong (df):\n",
    "    new_list = []\n",
    "    a = list(df.업종소분류명.unique())\n",
    "    for i in range(len(a)):\n",
    "        new_list.append(100+i)\n",
    "    dic = {key:value for key,value in zip(a,new_list)}\n",
    "    return dic"
   ]
  },
  {
   "cell_type": "code",
   "execution_count": 205,
   "metadata": {},
   "outputs": [],
   "source": [
    "from tqdm import tqdm"
   ]
  },
  {
   "cell_type": "code",
   "execution_count": 206,
   "metadata": {
    "scrolled": true
   },
   "outputs": [
    {
     "name": "stderr",
     "output_type": "stream",
     "text": [
      "<ipython-input-206-45ae6d11ee09>:2: SettingWithCopyWarning: \n",
      "A value is trying to be set on a copy of a slice from a DataFrame.\n",
      "Try using .loc[row_indexer,col_indexer] = value instead\n",
      "\n",
      "See the caveats in the documentation: https://pandas.pydata.org/pandas-docs/stable/user_guide/indexing.html#returning-a-view-versus-a-copy\n",
      "  z['category'] = z['업종대분류명']+ '-' + z['업종중분류명']\n",
      "1번째: 100%|█████████████████████████████████████████████████████████████| 5340345/5340345 [00:09<00:00, 538486.86it/s]\n",
      "2번째: 100%|█████████████████████████████████████████████████████████████| 5340345/5340345 [00:08<00:00, 630687.07it/s]\n"
     ]
    }
   ],
   "source": [
    "z = tmp\n",
    "z['category'] = z['업종대분류명']+ '-' + z['업종중분류명']\n",
    "z = z[['category','업종소분류명']]\n",
    "z = z.to_numpy()\n",
    "\n",
    "change_category = change_category(tmp)\n",
    "change_upjong = change_upjong(tmp)\n",
    "\n",
    "for i in tqdm(range(len(z)),'1번째'):\n",
    "    z[i,0] = change_category[z[i,0]]\n",
    "    \n",
    "for i in tqdm(range(len(z)),'2번째'):\n",
    "    z[i,1] = change_upjong[z[i,1]]"
   ]
  },
  {
   "cell_type": "code",
   "execution_count": 208,
   "metadata": {},
   "outputs": [
    {
     "data": {
      "text/plain": [
       "{'생활-음식료품': 0,\n",
       " '생활-의료기관': 1,\n",
       " '생활-자동차정비/유지': 2,\n",
       " '쇼핑-신변잡화': 3,\n",
       " '유흥-휴게': 4,\n",
       " '음식-일반음식': 5,\n",
       " 'T&E-숙박업': 6,\n",
       " '문화-학원': 7,\n",
       " '생활-연료판매': 8,\n",
       " '생활-유통업비영리': 9,\n",
       " '생활-유통업영리': 10,\n",
       " 'T&E-레져업소': 11,\n",
       " '문화-문화/취미': 12,\n",
       " '유흥-보건/위생': 13,\n",
       " '기타-기타': 14,\n",
       " '내구재-건축/자재': 15,\n",
       " 'T&E-레져용품': 16,\n",
       " '기타-용역서비스': 17,\n",
       " '문화-서적/문구': 18,\n",
       " '생활-보건/위생': 19,\n",
       " '생활-수리서비스': 20,\n",
       " '쇼핑-유통업영리': 21,\n",
       " '쇼핑-의류': 22,\n",
       " '음식-단란주점(음식)': 23,\n",
       " '내구재-농업': 24,\n",
       " '음식-유흥주점(음식)': 25,\n",
       " 'T&E-회원제형태업소': 26,\n",
       " '내구재-가구': 27,\n",
       " '내구재-가전제품': 28,\n",
       " '문화-광학제품': 29,\n",
       " '생활-건강식품': 30,\n",
       " '생활-직물': 31,\n",
       " '내구재-주방용품': 32,\n",
       " '문화-회원제형태업소': 33,\n",
       " '생활-용역서비스': 34,\n",
       " '내구재-사무/통신기기': 35,\n",
       " 'T&E-여행업': 36,\n",
       " '기타-회원제형태업소': 37,\n",
       " '생활-보험': 38,\n",
       " '내구재-자동차판매': 39,\n",
       " '기타-보건/위생': 40,\n",
       " '생활-회원제형태업소': 41}"
      ]
     },
     "execution_count": 208,
     "metadata": {},
     "output_type": "execute_result"
    }
   ],
   "source": [
    "change_category"
   ]
  },
  {
   "cell_type": "code",
   "execution_count": 210,
   "metadata": {
    "scrolled": true
   },
   "outputs": [
    {
     "name": "stderr",
     "output_type": "stream",
     "text": [
      "<ipython-input-210-be6cf286e842>:3: SettingWithCopyWarning: \n",
      "A value is trying to be set on a copy of a slice from a DataFrame\n",
      "\n",
      "See the caveats in the documentation: https://pandas.pydata.org/pandas-docs/stable/user_guide/indexing.html#returning-a-view-versus-a-copy\n",
      "  new_classified.category[i] = change_category[new_classified.category[i]]\n"
     ]
    }
   ],
   "source": [
    "for i in range(len(new_classified)):\n",
    "    try:\n",
    "        new_classified.category[i] = change_category[new_classified.category[i]]\n",
    "    except:\n",
    "        continue"
   ]
  },
  {
   "cell_type": "code",
   "execution_count": 211,
   "metadata": {},
   "outputs": [],
   "source": [
    "new_classified = new_classified.drop(['total count'],axis=1)\n",
    "new_classified = new_classified.to_numpy()\n",
    "#new_classified"
   ]
  },
  {
   "cell_type": "code",
   "execution_count": 212,
   "metadata": {},
   "outputs": [],
   "source": [
    "l_1 = []\n",
    "l_2 = []\n",
    "s_1 = []\n",
    "s_2 = []\n",
    "\n",
    "for i in list(life_money_1.업종소분류명.unique()):\n",
    "    l_1.append(change_upjong[i])\n",
    "    \n",
    "# life money 2 4check\n",
    "for i in list(life_money_2.업종소분류명.unique()):\n",
    "    l_2.append(change_upjong[i])\n",
    "    \n",
    "for i in list(shopping_money_1.업종소분류명.unique()):\n",
    "    s_1.append(change_upjong[i])\n",
    "    \n",
    "for i in list(shopping_money_2.업종소분류명.unique()):\n",
    "    s_2.append(change_upjong[i])"
   ]
  },
  {
   "cell_type": "code",
   "execution_count": 213,
   "metadata": {
    "scrolled": true
   },
   "outputs": [
    {
     "name": "stderr",
     "output_type": "stream",
     "text": [
      "진행도: 100%|█████████████████████████████████████████████████████████████| 5340345/5340345 [03:48<00:00, 23408.91it/s]\n"
     ]
    }
   ],
   "source": [
    "tmp_list = []\n",
    "\n",
    "for i in tqdm((range(len(z))),'진행도'):\n",
    "    for k in range(len(new_classified)):   \n",
    "        if z[i,0] == new_classified[k,0]:\n",
    "            tmp_list.append(new_classified[k,1])\n",
    "            \n",
    "    if z[i,0] == 10:    # 생활 유통업영리\n",
    "        if z[i,1] in l_1:     #생활 유통업영리 (소분류가 비전자)\n",
    "            tmp_list.append('종합소매')\n",
    "            continue\n",
    "        \n",
    "        #변경된 부분\n",
    "        elif z[i,1] in l_2:    #생활 유통업영리 (소분류가 전자)\n",
    "            tmp_list.append('전자상거래')\n",
    "            continue\n",
    "\n",
    "        else:\n",
    "            tmp_list.append('예외처리')\n",
    "            continue\n",
    "\n",
    "    elif z[i,0] == 9:          # 생활 유통업비영리\n",
    "        tmp_list.append('종합소매')\n",
    "        continue\n",
    "\n",
    "    elif z[i,0] == 21:           # 쇼핑 유통업영리\n",
    "        if  z[i,1] in s_1:\n",
    "            tmp_list.append('대형 판매')\n",
    "            continue\n",
    "\n",
    "        elif z[i,1] in s_2:\n",
    "            tmp_list.append('전자상거래')\n",
    "            continue\n",
    "\n",
    "        else:\n",
    "            tmp_list.append('예외처리')\n",
    "            continue"
   ]
  },
  {
   "cell_type": "code",
   "execution_count": 214,
   "metadata": {},
   "outputs": [
    {
     "data": {
      "text/plain": [
       "3577"
      ]
     },
     "execution_count": 214,
     "metadata": {},
     "output_type": "execute_result"
    }
   ],
   "source": [
    "a = temp[temp['업종대분류명']=='생활']\n",
    "b = a[a['업종중분류명']=='유통업영리']\n",
    "c = b[b['업종소분류명']=='인터넷Mall']\n",
    "len(c)"
   ]
  },
  {
   "cell_type": "code",
   "execution_count": 215,
   "metadata": {},
   "outputs": [
    {
     "data": {
      "text/plain": [
       "6976"
      ]
     },
     "execution_count": 215,
     "metadata": {},
     "output_type": "execute_result"
    }
   ],
   "source": [
    "a = temp[temp['업종대분류명']=='생활']\n",
    "b = a[a['업종중분류명']=='유통업영리']\n",
    "c = b[b['업종소분류명']=='인터넷종합Mall']\n",
    "len(c)"
   ]
  },
  {
   "cell_type": "code",
   "execution_count": 216,
   "metadata": {},
   "outputs": [
    {
     "data": {
      "text/plain": [
       "3411"
      ]
     },
     "execution_count": 216,
     "metadata": {},
     "output_type": "execute_result"
    }
   ],
   "source": [
    "a = temp[temp['업종대분류명']=='생활']\n",
    "b = a[a['업종중분류명']=='유통업영리']\n",
    "c = b[b['업종소분류명']=='상품권']\n",
    "len(c)"
   ]
  },
  {
   "cell_type": "code",
   "execution_count": 217,
   "metadata": {},
   "outputs": [
    {
     "data": {
      "text/plain": [
       "4806"
      ]
     },
     "execution_count": 217,
     "metadata": {},
     "output_type": "execute_result"
    }
   ],
   "source": [
    "a = temp[temp['업종대분류명']=='생활']\n",
    "b = a[a['업종중분류명']=='유통업영리']\n",
    "c = b[b['업종소분류명']=='인터넷PG']\n",
    "len(c)"
   ]
  },
  {
   "cell_type": "code",
   "execution_count": 218,
   "metadata": {
    "scrolled": true
   },
   "outputs": [
    {
     "data": {
      "text/plain": [
       "289"
      ]
     },
     "execution_count": 218,
     "metadata": {},
     "output_type": "execute_result"
    }
   ],
   "source": [
    "a = temp[temp['업종대분류명']=='생활']\n",
    "b = a[a['업종중분류명']=='유통업영리']\n",
    "c = b[b['업종소분류명']=='전자상거래상품권']\n",
    "len(c)"
   ]
  },
  {
   "cell_type": "code",
   "execution_count": 219,
   "metadata": {},
   "outputs": [
    {
     "data": {
      "text/plain": [
       "270"
      ]
     },
     "execution_count": 219,
     "metadata": {},
     "output_type": "execute_result"
    }
   ],
   "source": [
    "a = temp[temp['업종대분류명']=='쇼핑']\n",
    "b = a[a['업종중분류명']=='유통업영리']\n",
    "c = b[b['업종소분류명']=='통신판매']\n",
    "len(c)"
   ]
  },
  {
   "cell_type": "code",
   "execution_count": 220,
   "metadata": {},
   "outputs": [
    {
     "data": {
      "text/plain": [
       "946"
      ]
     },
     "execution_count": 220,
     "metadata": {},
     "output_type": "execute_result"
    }
   ],
   "source": [
    "a = temp[temp['업종대분류명']=='쇼핑']\n",
    "b = a[a['업종중분류명']=='유통업영리']\n",
    "c = b[b['업종소분류명']=='홈쇼핑']\n",
    "len(c)"
   ]
  },
  {
   "cell_type": "code",
   "execution_count": 221,
   "metadata": {},
   "outputs": [
    {
     "data": {
      "text/plain": [
       "568"
      ]
     },
     "execution_count": 221,
     "metadata": {},
     "output_type": "execute_result"
    }
   ],
   "source": [
    "a = temp[temp['업종대분류명']=='쇼핑']\n",
    "b = a[a['업종중분류명']=='유통업영리']\n",
    "c = b[b['업종소분류명']=='PG상품권']\n",
    "len(c)"
   ]
  },
  {
   "cell_type": "code",
   "execution_count": 222,
   "metadata": {
    "scrolled": true
   },
   "outputs": [
    {
     "data": {
      "text/plain": [
       "5340345"
      ]
     },
     "execution_count": 222,
     "metadata": {},
     "output_type": "execute_result"
    }
   ],
   "source": [
    "len(temp)"
   ]
  },
  {
   "cell_type": "code",
   "execution_count": 223,
   "metadata": {},
   "outputs": [
    {
     "data": {
      "text/plain": [
       "5340345"
      ]
     },
     "execution_count": 223,
     "metadata": {},
     "output_type": "execute_result"
    }
   ],
   "source": [
    "len(tmp_list)"
   ]
  },
  {
   "cell_type": "code",
   "execution_count": 224,
   "metadata": {
    "scrolled": true
   },
   "outputs": [
    {
     "data": {
      "text/html": [
       "<div>\n",
       "<style scoped>\n",
       "    .dataframe tbody tr th:only-of-type {\n",
       "        vertical-align: middle;\n",
       "    }\n",
       "\n",
       "    .dataframe tbody tr th {\n",
       "        vertical-align: top;\n",
       "    }\n",
       "\n",
       "    .dataframe thead th {\n",
       "        text-align: right;\n",
       "    }\n",
       "</style>\n",
       "<table border=\"1\" class=\"dataframe\">\n",
       "  <thead>\n",
       "    <tr style=\"text-align: right;\">\n",
       "      <th></th>\n",
       "      <th>new_category</th>\n",
       "    </tr>\n",
       "  </thead>\n",
       "  <tbody>\n",
       "    <tr>\n",
       "      <th>0</th>\n",
       "      <td>식료품</td>\n",
       "    </tr>\n",
       "    <tr>\n",
       "      <th>1</th>\n",
       "      <td>식료품</td>\n",
       "    </tr>\n",
       "    <tr>\n",
       "      <th>2</th>\n",
       "      <td>식료품</td>\n",
       "    </tr>\n",
       "    <tr>\n",
       "      <th>3</th>\n",
       "      <td>식료품</td>\n",
       "    </tr>\n",
       "    <tr>\n",
       "      <th>4</th>\n",
       "      <td>식료품</td>\n",
       "    </tr>\n",
       "  </tbody>\n",
       "</table>\n",
       "</div>"
      ],
      "text/plain": [
       "  new_category\n",
       "0          식료품\n",
       "1          식료품\n",
       "2          식료품\n",
       "3          식료품\n",
       "4          식료품"
      ]
     },
     "execution_count": 224,
     "metadata": {},
     "output_type": "execute_result"
    }
   ],
   "source": [
    "category_df = pd.DataFrame(data=tmp_list,columns=['new_category'])\n",
    "category_df.head()"
   ]
  },
  {
   "cell_type": "code",
   "execution_count": 227,
   "metadata": {},
   "outputs": [
    {
     "data": {
      "text/plain": [
       "array([['가구 및 전자 제품', '62977'],\n",
       "       ['교육', '188142'],\n",
       "       ['교통', '31710'],\n",
       "       ['기타', '91043'],\n",
       "       ['대형 판매', '170866'],\n",
       "       ['보험', '3403'],\n",
       "       ['서비스', '351864'],\n",
       "       ['식료품', '575328'],\n",
       "       ['여행 및 숙박', '391800'],\n",
       "       ['예외처리', '9009'],\n",
       "       ['오락 및 문화', '434268'],\n",
       "       ['음식점', '990169'],\n",
       "       ['의료', '582759'],\n",
       "       ['의류 및 잡화', '202363'],\n",
       "       ['자동차', '377708'],\n",
       "       ['전자상거래', '20843'],\n",
       "       ['종합소매', '856093']], dtype='<U21')"
      ]
     },
     "execution_count": 227,
     "metadata": {},
     "output_type": "execute_result"
    }
   ],
   "source": [
    "(unique, counts) = np.unique(tmp_list, return_counts=True)\n",
    "frequencies = np.asarray((unique, counts)).T\n",
    "frequencies"
   ]
  },
  {
   "cell_type": "code",
   "execution_count": 225,
   "metadata": {
    "scrolled": true
   },
   "outputs": [
    {
     "data": {
      "text/plain": [
       "17"
      ]
     },
     "execution_count": 225,
     "metadata": {},
     "output_type": "execute_result"
    }
   ],
   "source": [
    "len(category_df.new_category.unique())"
   ]
  },
  {
   "cell_type": "code",
   "execution_count": 226,
   "metadata": {},
   "outputs": [
    {
     "data": {
      "text/plain": [
       "array(['식료품', '의료', '자동차', '의류 및 잡화', '여행 및 숙박', '음식점', '교육', '종합소매',\n",
       "       '오락 및 문화', '기타', '서비스', '대형 판매', '가구 및 전자 제품', '교통', '예외처리',\n",
       "       '전자상거래', '보험'], dtype=object)"
      ]
     },
     "execution_count": 226,
     "metadata": {},
     "output_type": "execute_result"
    }
   ],
   "source": [
    "(category_df.new_category.unique())"
   ]
  }
 ],
 "metadata": {
  "kernelspec": {
   "display_name": "Python 3",
   "language": "python",
   "name": "python3"
  },
  "language_info": {
   "codemirror_mode": {
    "name": "ipython",
    "version": 3
   },
   "file_extension": ".py",
   "mimetype": "text/x-python",
   "name": "python",
   "nbconvert_exporter": "python",
   "pygments_lexer": "ipython3",
   "version": "3.8.0"
  }
 },
 "nbformat": 4,
 "nbformat_minor": 4
}
